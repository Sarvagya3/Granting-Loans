{
 "cells": [
  {
   "cell_type": "code",
   "execution_count": 1,
   "metadata": {},
   "outputs": [],
   "source": [
    "import pandas as pd\n",
    "import matplotlib.pyplot as plt\n",
    "import seaborn as sns"
   ]
  },
  {
   "cell_type": "code",
   "execution_count": 2,
   "metadata": {},
   "outputs": [],
   "source": [
    "loan_table=pd.read_csv(\"loan_table.csv.txt\",parse_dates=['date'])\n",
    "borrower_table=pd.read_csv(\"borrower_table.csv.txt\")"
   ]
  },
  {
   "cell_type": "code",
   "execution_count": 3,
   "metadata": {},
   "outputs": [
    {
     "data": {
      "text/html": [
       "<div>\n",
       "<style scoped>\n",
       "    .dataframe tbody tr th:only-of-type {\n",
       "        vertical-align: middle;\n",
       "    }\n",
       "\n",
       "    .dataframe tbody tr th {\n",
       "        vertical-align: top;\n",
       "    }\n",
       "\n",
       "    .dataframe thead th {\n",
       "        text-align: right;\n",
       "    }\n",
       "</style>\n",
       "<table border=\"1\" class=\"dataframe\">\n",
       "  <thead>\n",
       "    <tr style=\"text-align: right;\">\n",
       "      <th></th>\n",
       "      <th>loan_id</th>\n",
       "      <th>loan_purpose</th>\n",
       "      <th>date</th>\n",
       "      <th>loan_granted</th>\n",
       "      <th>loan_repaid</th>\n",
       "    </tr>\n",
       "  </thead>\n",
       "  <tbody>\n",
       "    <tr>\n",
       "      <th>0</th>\n",
       "      <td>19454</td>\n",
       "      <td>investment</td>\n",
       "      <td>2012-03-15</td>\n",
       "      <td>0</td>\n",
       "      <td>NaN</td>\n",
       "    </tr>\n",
       "    <tr>\n",
       "      <th>1</th>\n",
       "      <td>496811</td>\n",
       "      <td>investment</td>\n",
       "      <td>2012-01-17</td>\n",
       "      <td>0</td>\n",
       "      <td>NaN</td>\n",
       "    </tr>\n",
       "    <tr>\n",
       "      <th>2</th>\n",
       "      <td>929493</td>\n",
       "      <td>other</td>\n",
       "      <td>2012-02-09</td>\n",
       "      <td>0</td>\n",
       "      <td>NaN</td>\n",
       "    </tr>\n",
       "    <tr>\n",
       "      <th>3</th>\n",
       "      <td>580653</td>\n",
       "      <td>other</td>\n",
       "      <td>2012-06-27</td>\n",
       "      <td>1</td>\n",
       "      <td>1.0</td>\n",
       "    </tr>\n",
       "    <tr>\n",
       "      <th>4</th>\n",
       "      <td>172419</td>\n",
       "      <td>business</td>\n",
       "      <td>2012-05-21</td>\n",
       "      <td>1</td>\n",
       "      <td>0.0</td>\n",
       "    </tr>\n",
       "  </tbody>\n",
       "</table>\n",
       "</div>"
      ],
      "text/plain": [
       "   loan_id loan_purpose       date  loan_granted  loan_repaid\n",
       "0    19454   investment 2012-03-15             0          NaN\n",
       "1   496811   investment 2012-01-17             0          NaN\n",
       "2   929493        other 2012-02-09             0          NaN\n",
       "3   580653        other 2012-06-27             1          1.0\n",
       "4   172419     business 2012-05-21             1          0.0"
      ]
     },
     "execution_count": 3,
     "metadata": {},
     "output_type": "execute_result"
    }
   ],
   "source": [
    "loan_table.head()"
   ]
  },
  {
   "cell_type": "code",
   "execution_count": 4,
   "metadata": {},
   "outputs": [
    {
     "data": {
      "text/html": [
       "<div>\n",
       "<style scoped>\n",
       "    .dataframe tbody tr th:only-of-type {\n",
       "        vertical-align: middle;\n",
       "    }\n",
       "\n",
       "    .dataframe tbody tr th {\n",
       "        vertical-align: top;\n",
       "    }\n",
       "\n",
       "    .dataframe thead th {\n",
       "        text-align: right;\n",
       "    }\n",
       "</style>\n",
       "<table border=\"1\" class=\"dataframe\">\n",
       "  <thead>\n",
       "    <tr style=\"text-align: right;\">\n",
       "      <th></th>\n",
       "      <th>loan_id</th>\n",
       "      <th>is_first_loan</th>\n",
       "      <th>fully_repaid_previous_loans</th>\n",
       "      <th>currently_repaying_other_loans</th>\n",
       "      <th>total_credit_card_limit</th>\n",
       "      <th>avg_percentage_credit_card_limit_used_last_year</th>\n",
       "      <th>saving_amount</th>\n",
       "      <th>checking_amount</th>\n",
       "      <th>is_employed</th>\n",
       "      <th>yearly_salary</th>\n",
       "      <th>age</th>\n",
       "      <th>dependent_number</th>\n",
       "    </tr>\n",
       "  </thead>\n",
       "  <tbody>\n",
       "    <tr>\n",
       "      <th>0</th>\n",
       "      <td>289774</td>\n",
       "      <td>1</td>\n",
       "      <td>NaN</td>\n",
       "      <td>NaN</td>\n",
       "      <td>8000</td>\n",
       "      <td>0.49</td>\n",
       "      <td>3285</td>\n",
       "      <td>1073</td>\n",
       "      <td>0</td>\n",
       "      <td>0</td>\n",
       "      <td>47</td>\n",
       "      <td>3</td>\n",
       "    </tr>\n",
       "    <tr>\n",
       "      <th>1</th>\n",
       "      <td>482590</td>\n",
       "      <td>0</td>\n",
       "      <td>1.0</td>\n",
       "      <td>0.0</td>\n",
       "      <td>4500</td>\n",
       "      <td>1.03</td>\n",
       "      <td>636</td>\n",
       "      <td>5299</td>\n",
       "      <td>1</td>\n",
       "      <td>13500</td>\n",
       "      <td>33</td>\n",
       "      <td>1</td>\n",
       "    </tr>\n",
       "    <tr>\n",
       "      <th>2</th>\n",
       "      <td>135565</td>\n",
       "      <td>1</td>\n",
       "      <td>NaN</td>\n",
       "      <td>NaN</td>\n",
       "      <td>6900</td>\n",
       "      <td>0.82</td>\n",
       "      <td>2085</td>\n",
       "      <td>3422</td>\n",
       "      <td>1</td>\n",
       "      <td>24500</td>\n",
       "      <td>38</td>\n",
       "      <td>8</td>\n",
       "    </tr>\n",
       "    <tr>\n",
       "      <th>3</th>\n",
       "      <td>207797</td>\n",
       "      <td>0</td>\n",
       "      <td>1.0</td>\n",
       "      <td>0.0</td>\n",
       "      <td>1200</td>\n",
       "      <td>0.82</td>\n",
       "      <td>358</td>\n",
       "      <td>3388</td>\n",
       "      <td>0</td>\n",
       "      <td>0</td>\n",
       "      <td>24</td>\n",
       "      <td>1</td>\n",
       "    </tr>\n",
       "    <tr>\n",
       "      <th>4</th>\n",
       "      <td>828078</td>\n",
       "      <td>0</td>\n",
       "      <td>0.0</td>\n",
       "      <td>0.0</td>\n",
       "      <td>6900</td>\n",
       "      <td>0.80</td>\n",
       "      <td>2138</td>\n",
       "      <td>4282</td>\n",
       "      <td>1</td>\n",
       "      <td>18100</td>\n",
       "      <td>36</td>\n",
       "      <td>1</td>\n",
       "    </tr>\n",
       "  </tbody>\n",
       "</table>\n",
       "</div>"
      ],
      "text/plain": [
       "   loan_id  is_first_loan  fully_repaid_previous_loans  \\\n",
       "0   289774              1                          NaN   \n",
       "1   482590              0                          1.0   \n",
       "2   135565              1                          NaN   \n",
       "3   207797              0                          1.0   \n",
       "4   828078              0                          0.0   \n",
       "\n",
       "   currently_repaying_other_loans  total_credit_card_limit  \\\n",
       "0                             NaN                     8000   \n",
       "1                             0.0                     4500   \n",
       "2                             NaN                     6900   \n",
       "3                             0.0                     1200   \n",
       "4                             0.0                     6900   \n",
       "\n",
       "   avg_percentage_credit_card_limit_used_last_year  saving_amount  \\\n",
       "0                                             0.49           3285   \n",
       "1                                             1.03            636   \n",
       "2                                             0.82           2085   \n",
       "3                                             0.82            358   \n",
       "4                                             0.80           2138   \n",
       "\n",
       "   checking_amount  is_employed  yearly_salary  age  dependent_number  \n",
       "0             1073            0              0   47                 3  \n",
       "1             5299            1          13500   33                 1  \n",
       "2             3422            1          24500   38                 8  \n",
       "3             3388            0              0   24                 1  \n",
       "4             4282            1          18100   36                 1  "
      ]
     },
     "execution_count": 4,
     "metadata": {},
     "output_type": "execute_result"
    }
   ],
   "source": [
    "borrower_table.head()"
   ]
  },
  {
   "cell_type": "code",
   "execution_count": 5,
   "metadata": {},
   "outputs": [],
   "source": [
    "#merge the tables\n",
    "df=pd.merge(loan_table,borrower_table,on='loan_id')\n",
    "\n",
    "# choose data with loan granted \n",
    "# the data with loan not granted is not useful for profit calculation\n",
    "df = df[df['loan_granted'] == 1]"
   ]
  },
  {
   "cell_type": "code",
   "execution_count": 6,
   "metadata": {},
   "outputs": [
    {
     "data": {
      "text/html": [
       "<div>\n",
       "<style scoped>\n",
       "    .dataframe tbody tr th:only-of-type {\n",
       "        vertical-align: middle;\n",
       "    }\n",
       "\n",
       "    .dataframe tbody tr th {\n",
       "        vertical-align: top;\n",
       "    }\n",
       "\n",
       "    .dataframe thead th {\n",
       "        text-align: right;\n",
       "    }\n",
       "</style>\n",
       "<table border=\"1\" class=\"dataframe\">\n",
       "  <thead>\n",
       "    <tr style=\"text-align: right;\">\n",
       "      <th></th>\n",
       "      <th>loan_id</th>\n",
       "      <th>loan_purpose</th>\n",
       "      <th>date</th>\n",
       "      <th>loan_granted</th>\n",
       "      <th>loan_repaid</th>\n",
       "      <th>is_first_loan</th>\n",
       "      <th>fully_repaid_previous_loans</th>\n",
       "      <th>currently_repaying_other_loans</th>\n",
       "      <th>total_credit_card_limit</th>\n",
       "      <th>avg_percentage_credit_card_limit_used_last_year</th>\n",
       "      <th>saving_amount</th>\n",
       "      <th>checking_amount</th>\n",
       "      <th>is_employed</th>\n",
       "      <th>yearly_salary</th>\n",
       "      <th>age</th>\n",
       "      <th>dependent_number</th>\n",
       "    </tr>\n",
       "  </thead>\n",
       "  <tbody>\n",
       "    <tr>\n",
       "      <th>3</th>\n",
       "      <td>580653</td>\n",
       "      <td>other</td>\n",
       "      <td>2012-06-27</td>\n",
       "      <td>1</td>\n",
       "      <td>1.0</td>\n",
       "      <td>0</td>\n",
       "      <td>1.0</td>\n",
       "      <td>0.0</td>\n",
       "      <td>5400</td>\n",
       "      <td>0.52</td>\n",
       "      <td>3345</td>\n",
       "      <td>2764</td>\n",
       "      <td>1</td>\n",
       "      <td>15800</td>\n",
       "      <td>58</td>\n",
       "      <td>4</td>\n",
       "    </tr>\n",
       "    <tr>\n",
       "      <th>4</th>\n",
       "      <td>172419</td>\n",
       "      <td>business</td>\n",
       "      <td>2012-05-21</td>\n",
       "      <td>1</td>\n",
       "      <td>0.0</td>\n",
       "      <td>1</td>\n",
       "      <td>NaN</td>\n",
       "      <td>NaN</td>\n",
       "      <td>2900</td>\n",
       "      <td>0.76</td>\n",
       "      <td>1050</td>\n",
       "      <td>3695</td>\n",
       "      <td>1</td>\n",
       "      <td>34800</td>\n",
       "      <td>31</td>\n",
       "      <td>4</td>\n",
       "    </tr>\n",
       "    <tr>\n",
       "      <th>6</th>\n",
       "      <td>780070</td>\n",
       "      <td>business</td>\n",
       "      <td>2012-03-14</td>\n",
       "      <td>1</td>\n",
       "      <td>1.0</td>\n",
       "      <td>0</td>\n",
       "      <td>1.0</td>\n",
       "      <td>0.0</td>\n",
       "      <td>7800</td>\n",
       "      <td>0.30</td>\n",
       "      <td>4206</td>\n",
       "      <td>4368</td>\n",
       "      <td>1</td>\n",
       "      <td>51100</td>\n",
       "      <td>51</td>\n",
       "      <td>2</td>\n",
       "    </tr>\n",
       "    <tr>\n",
       "      <th>7</th>\n",
       "      <td>303138</td>\n",
       "      <td>emergency_funds</td>\n",
       "      <td>2012-08-31</td>\n",
       "      <td>1</td>\n",
       "      <td>0.0</td>\n",
       "      <td>0</td>\n",
       "      <td>0.0</td>\n",
       "      <td>1.0</td>\n",
       "      <td>4300</td>\n",
       "      <td>1.02</td>\n",
       "      <td>886</td>\n",
       "      <td>1597</td>\n",
       "      <td>1</td>\n",
       "      <td>15000</td>\n",
       "      <td>59</td>\n",
       "      <td>2</td>\n",
       "    </tr>\n",
       "    <tr>\n",
       "      <th>8</th>\n",
       "      <td>91475</td>\n",
       "      <td>investment</td>\n",
       "      <td>2012-05-25</td>\n",
       "      <td>1</td>\n",
       "      <td>1.0</td>\n",
       "      <td>0</td>\n",
       "      <td>1.0</td>\n",
       "      <td>0.0</td>\n",
       "      <td>3900</td>\n",
       "      <td>0.65</td>\n",
       "      <td>1837</td>\n",
       "      <td>3795</td>\n",
       "      <td>1</td>\n",
       "      <td>12000</td>\n",
       "      <td>24</td>\n",
       "      <td>1</td>\n",
       "    </tr>\n",
       "  </tbody>\n",
       "</table>\n",
       "</div>"
      ],
      "text/plain": [
       "   loan_id     loan_purpose       date  loan_granted  loan_repaid  \\\n",
       "3   580653            other 2012-06-27             1          1.0   \n",
       "4   172419         business 2012-05-21             1          0.0   \n",
       "6   780070         business 2012-03-14             1          1.0   \n",
       "7   303138  emergency_funds 2012-08-31             1          0.0   \n",
       "8    91475       investment 2012-05-25             1          1.0   \n",
       "\n",
       "   is_first_loan  fully_repaid_previous_loans  currently_repaying_other_loans  \\\n",
       "3              0                          1.0                             0.0   \n",
       "4              1                          NaN                             NaN   \n",
       "6              0                          1.0                             0.0   \n",
       "7              0                          0.0                             1.0   \n",
       "8              0                          1.0                             0.0   \n",
       "\n",
       "   total_credit_card_limit  avg_percentage_credit_card_limit_used_last_year  \\\n",
       "3                     5400                                             0.52   \n",
       "4                     2900                                             0.76   \n",
       "6                     7800                                             0.30   \n",
       "7                     4300                                             1.02   \n",
       "8                     3900                                             0.65   \n",
       "\n",
       "   saving_amount  checking_amount  is_employed  yearly_salary  age  \\\n",
       "3           3345             2764            1          15800   58   \n",
       "4           1050             3695            1          34800   31   \n",
       "6           4206             4368            1          51100   51   \n",
       "7            886             1597            1          15000   59   \n",
       "8           1837             3795            1          12000   24   \n",
       "\n",
       "   dependent_number  \n",
       "3                 4  \n",
       "4                 4  \n",
       "6                 2  \n",
       "7                 2  \n",
       "8                 1  "
      ]
     },
     "execution_count": 6,
     "metadata": {},
     "output_type": "execute_result"
    }
   ],
   "source": [
    "df.head()"
   ]
  },
  {
   "cell_type": "markdown",
   "metadata": {},
   "source": [
    "### EDA : visualize features and find correlation with the target variable: loan_repaid"
   ]
  },
  {
   "cell_type": "code",
   "execution_count": 15,
   "metadata": {},
   "outputs": [],
   "source": [
    "def visualize(col_name):\n",
    "    fig,ax= plt.subplots(nrows=1, ncols=2, figsize=(16, 6))\n",
    "    sns.countplot(x=col_name, data=df, ax=ax[0])\n",
    "    ax[0].set_xlabel(col_name, fontsize=12)\n",
    "    ax[0].set_ylabel('Count', fontsize=12)\n",
    "    ax[0].set_title('Count Plot of' +\" \"+col_name, fontsize=16)\n",
    "\n",
    "    sns.barplot(x=col_name, y='loan_repaid', data=df, ax=ax[1])\n",
    "    ax[1].set_xlabel(col_name, fontsize=12)\n",
    "    ax[1].set_ylabel('Loan Repaid Ratio', fontsize=12)\n",
    "    ax[1].set_title('Loan Repaid Ratio vs.' +' '+ col_name, fontsize=16)\n",
    "    plt.tight_layout()\n",
    "    plt.show()"
   ]
  },
  {
   "cell_type": "code",
   "execution_count": 21,
   "metadata": {},
   "outputs": [
    {
     "data": {
      "image/png": "[encoded data removed]",
      "text/plain": [
       "<Figure size 1152x432 with 2 Axes>"
      ]
     },
     "metadata": {
      "needs_background": "light"
     },
     "output_type": "display_data"
    }
   ],
   "source": [
    "visualize('loan_purpose')"
   ]
  },
  {
   "cell_type": "code",
   "execution_count": 22,
   "metadata": {},
   "outputs": [
    {
     "data": {
      "image/png": "[encoded data removed]",
      "text/plain": [
       "<Figure size 1152x432 with 2 Axes>"
      ]
     },
     "metadata": {
      "needs_background": "light"
     },
     "output_type": "display_data"
    }
   ],
   "source": [
    "visualize('fully_repaid_previous_loans')"
   ]
  },
  {
   "cell_type": "code",
   "execution_count": 23,
   "metadata": {},
   "outputs": [
    {
     "data": {
      "image/png": "[encoded data removed]",
      "text/plain": [
       "<Figure size 1152x432 with 2 Axes>"
      ]
     },
     "metadata": {
      "needs_background": "light"
     },
     "output_type": "display_data"
    }
   ],
   "source": [
    "visualize('currently_repaying_other_loans')"
   ]
  },
  {
   "cell_type": "markdown",
   "metadata": {},
   "source": [
    "Other factors can be visualized similarly. \n",
    "We can get the correlations between each variable to see how each affects the loan_repaid variable."
   ]
  },
  {
   "cell_type": "markdown",
   "metadata": {},
   "source": [
    "### Feature Engineering"
   ]
  },
  {
   "cell_type": "code",
   "execution_count": 60,
   "metadata": {},
   "outputs": [
    {
     "data": {
      "text/html": [
       "<div>\n",
       "<style scoped>\n",
       "    .dataframe tbody tr th:only-of-type {\n",
       "        vertical-align: middle;\n",
       "    }\n",
       "\n",
       "    .dataframe tbody tr th {\n",
       "        vertical-align: top;\n",
       "    }\n",
       "\n",
       "    .dataframe thead th {\n",
       "        text-align: right;\n",
       "    }\n",
       "</style>\n",
       "<table border=\"1\" class=\"dataframe\">\n",
       "  <thead>\n",
       "    <tr style=\"text-align: right;\">\n",
       "      <th></th>\n",
       "      <th>loan_id</th>\n",
       "      <th>loan_granted</th>\n",
       "      <th>loan_repaid</th>\n",
       "      <th>is_first_loan</th>\n",
       "      <th>fully_repaid_previous_loans</th>\n",
       "      <th>currently_repaying_other_loans</th>\n",
       "      <th>total_credit_card_limit</th>\n",
       "      <th>avg_percentage_credit_card_limit_used_last_year</th>\n",
       "      <th>saving_amount</th>\n",
       "      <th>checking_amount</th>\n",
       "      <th>is_employed</th>\n",
       "      <th>yearly_salary</th>\n",
       "      <th>age</th>\n",
       "      <th>dependent_number</th>\n",
       "    </tr>\n",
       "  </thead>\n",
       "  <tbody>\n",
       "    <tr>\n",
       "      <th>loan_id</th>\n",
       "      <td>1.000000</td>\n",
       "      <td>NaN</td>\n",
       "      <td>-0.002704</td>\n",
       "      <td>0.002246</td>\n",
       "      <td>0.001710</td>\n",
       "      <td>0.005651</td>\n",
       "      <td>-0.000655</td>\n",
       "      <td>0.001768</td>\n",
       "      <td>-0.004482</td>\n",
       "      <td>-0.000531</td>\n",
       "      <td>0.012130</td>\n",
       "      <td>0.006602</td>\n",
       "      <td>0.011177</td>\n",
       "      <td>-0.000816</td>\n",
       "    </tr>\n",
       "    <tr>\n",
       "      <th>loan_granted</th>\n",
       "      <td>NaN</td>\n",
       "      <td>NaN</td>\n",
       "      <td>NaN</td>\n",
       "      <td>NaN</td>\n",
       "      <td>NaN</td>\n",
       "      <td>NaN</td>\n",
       "      <td>NaN</td>\n",
       "      <td>NaN</td>\n",
       "      <td>NaN</td>\n",
       "      <td>NaN</td>\n",
       "      <td>NaN</td>\n",
       "      <td>NaN</td>\n",
       "      <td>NaN</td>\n",
       "      <td>NaN</td>\n",
       "    </tr>\n",
       "    <tr>\n",
       "      <th>loan_repaid</th>\n",
       "      <td>-0.002704</td>\n",
       "      <td>NaN</td>\n",
       "      <td>1.000000</td>\n",
       "      <td>0.012824</td>\n",
       "      <td>0.038665</td>\n",
       "      <td>-0.496350</td>\n",
       "      <td>0.401911</td>\n",
       "      <td>-0.209870</td>\n",
       "      <td>0.493699</td>\n",
       "      <td>0.494341</td>\n",
       "      <td>0.305749</td>\n",
       "      <td>0.426648</td>\n",
       "      <td>0.000947</td>\n",
       "      <td>-0.136384</td>\n",
       "    </tr>\n",
       "    <tr>\n",
       "      <th>is_first_loan</th>\n",
       "      <td>0.002246</td>\n",
       "      <td>NaN</td>\n",
       "      <td>0.012824</td>\n",
       "      <td>1.000000</td>\n",
       "      <td>NaN</td>\n",
       "      <td>NaN</td>\n",
       "      <td>0.003657</td>\n",
       "      <td>-0.004016</td>\n",
       "      <td>0.009611</td>\n",
       "      <td>0.010356</td>\n",
       "      <td>-0.000380</td>\n",
       "      <td>-0.002121</td>\n",
       "      <td>0.002591</td>\n",
       "      <td>-0.005861</td>\n",
       "    </tr>\n",
       "    <tr>\n",
       "      <th>fully_repaid_previous_loans</th>\n",
       "      <td>0.001710</td>\n",
       "      <td>NaN</td>\n",
       "      <td>0.038665</td>\n",
       "      <td>NaN</td>\n",
       "      <td>1.000000</td>\n",
       "      <td>-0.015923</td>\n",
       "      <td>0.031333</td>\n",
       "      <td>-0.001759</td>\n",
       "      <td>0.014028</td>\n",
       "      <td>0.020963</td>\n",
       "      <td>0.002697</td>\n",
       "      <td>0.008098</td>\n",
       "      <td>0.009527</td>\n",
       "      <td>0.001105</td>\n",
       "    </tr>\n",
       "    <tr>\n",
       "      <th>currently_repaying_other_loans</th>\n",
       "      <td>0.005651</td>\n",
       "      <td>NaN</td>\n",
       "      <td>-0.496350</td>\n",
       "      <td>NaN</td>\n",
       "      <td>-0.015923</td>\n",
       "      <td>1.000000</td>\n",
       "      <td>-0.198214</td>\n",
       "      <td>0.094812</td>\n",
       "      <td>-0.251634</td>\n",
       "      <td>-0.248012</td>\n",
       "      <td>-0.154352</td>\n",
       "      <td>-0.215739</td>\n",
       "      <td>-0.008255</td>\n",
       "      <td>0.075054</td>\n",
       "    </tr>\n",
       "    <tr>\n",
       "      <th>total_credit_card_limit</th>\n",
       "      <td>-0.000655</td>\n",
       "      <td>NaN</td>\n",
       "      <td>0.401911</td>\n",
       "      <td>0.003657</td>\n",
       "      <td>0.031333</td>\n",
       "      <td>-0.198214</td>\n",
       "      <td>1.000000</td>\n",
       "      <td>-0.076596</td>\n",
       "      <td>0.194137</td>\n",
       "      <td>0.203409</td>\n",
       "      <td>0.156715</td>\n",
       "      <td>0.186868</td>\n",
       "      <td>0.000168</td>\n",
       "      <td>-0.059254</td>\n",
       "    </tr>\n",
       "    <tr>\n",
       "      <th>avg_percentage_credit_card_limit_used_last_year</th>\n",
       "      <td>0.001768</td>\n",
       "      <td>NaN</td>\n",
       "      <td>-0.209870</td>\n",
       "      <td>-0.004016</td>\n",
       "      <td>-0.001759</td>\n",
       "      <td>0.094812</td>\n",
       "      <td>-0.076596</td>\n",
       "      <td>1.000000</td>\n",
       "      <td>-0.098045</td>\n",
       "      <td>-0.101262</td>\n",
       "      <td>-0.089726</td>\n",
       "      <td>-0.102187</td>\n",
       "      <td>0.003110</td>\n",
       "      <td>0.026807</td>\n",
       "    </tr>\n",
       "    <tr>\n",
       "      <th>saving_amount</th>\n",
       "      <td>-0.004482</td>\n",
       "      <td>NaN</td>\n",
       "      <td>0.493699</td>\n",
       "      <td>0.009611</td>\n",
       "      <td>0.014028</td>\n",
       "      <td>-0.251634</td>\n",
       "      <td>0.194137</td>\n",
       "      <td>-0.098045</td>\n",
       "      <td>1.000000</td>\n",
       "      <td>0.238092</td>\n",
       "      <td>0.148637</td>\n",
       "      <td>0.210556</td>\n",
       "      <td>-0.004327</td>\n",
       "      <td>-0.064931</td>\n",
       "    </tr>\n",
       "    <tr>\n",
       "      <th>checking_amount</th>\n",
       "      <td>-0.000531</td>\n",
       "      <td>NaN</td>\n",
       "      <td>0.494341</td>\n",
       "      <td>0.010356</td>\n",
       "      <td>0.020963</td>\n",
       "      <td>-0.248012</td>\n",
       "      <td>0.203409</td>\n",
       "      <td>-0.101262</td>\n",
       "      <td>0.238092</td>\n",
       "      <td>1.000000</td>\n",
       "      <td>0.151237</td>\n",
       "      <td>0.210244</td>\n",
       "      <td>0.005039</td>\n",
       "      <td>-0.071816</td>\n",
       "    </tr>\n",
       "    <tr>\n",
       "      <th>is_employed</th>\n",
       "      <td>0.012130</td>\n",
       "      <td>NaN</td>\n",
       "      <td>0.305749</td>\n",
       "      <td>-0.000380</td>\n",
       "      <td>0.002697</td>\n",
       "      <td>-0.154352</td>\n",
       "      <td>0.156715</td>\n",
       "      <td>-0.089726</td>\n",
       "      <td>0.148637</td>\n",
       "      <td>0.151237</td>\n",
       "      <td>1.000000</td>\n",
       "      <td>0.565322</td>\n",
       "      <td>0.005004</td>\n",
       "      <td>-0.042867</td>\n",
       "    </tr>\n",
       "    <tr>\n",
       "      <th>yearly_salary</th>\n",
       "      <td>0.006602</td>\n",
       "      <td>NaN</td>\n",
       "      <td>0.426648</td>\n",
       "      <td>-0.002121</td>\n",
       "      <td>0.008098</td>\n",
       "      <td>-0.215739</td>\n",
       "      <td>0.186868</td>\n",
       "      <td>-0.102187</td>\n",
       "      <td>0.210556</td>\n",
       "      <td>0.210244</td>\n",
       "      <td>0.565322</td>\n",
       "      <td>1.000000</td>\n",
       "      <td>0.009329</td>\n",
       "      <td>-0.063628</td>\n",
       "    </tr>\n",
       "    <tr>\n",
       "      <th>age</th>\n",
       "      <td>0.011177</td>\n",
       "      <td>NaN</td>\n",
       "      <td>0.000947</td>\n",
       "      <td>0.002591</td>\n",
       "      <td>0.009527</td>\n",
       "      <td>-0.008255</td>\n",
       "      <td>0.000168</td>\n",
       "      <td>0.003110</td>\n",
       "      <td>-0.004327</td>\n",
       "      <td>0.005039</td>\n",
       "      <td>0.005004</td>\n",
       "      <td>0.009329</td>\n",
       "      <td>1.000000</td>\n",
       "      <td>-0.001281</td>\n",
       "    </tr>\n",
       "    <tr>\n",
       "      <th>dependent_number</th>\n",
       "      <td>-0.000816</td>\n",
       "      <td>NaN</td>\n",
       "      <td>-0.136384</td>\n",
       "      <td>-0.005861</td>\n",
       "      <td>0.001105</td>\n",
       "      <td>0.075054</td>\n",
       "      <td>-0.059254</td>\n",
       "      <td>0.026807</td>\n",
       "      <td>-0.064931</td>\n",
       "      <td>-0.071816</td>\n",
       "      <td>-0.042867</td>\n",
       "      <td>-0.063628</td>\n",
       "      <td>-0.001281</td>\n",
       "      <td>1.000000</td>\n",
       "    </tr>\n",
       "  </tbody>\n",
       "</table>\n",
       "</div>"
      ],
      "text/plain": [
       "                                                  loan_id  loan_granted  \\\n",
       "loan_id                                          1.000000           NaN   \n",
       "loan_granted                                          NaN           NaN   \n",
       "loan_repaid                                     -0.002704           NaN   \n",
       "is_first_loan                                    0.002246           NaN   \n",
       "fully_repaid_previous_loans                      0.001710           NaN   \n",
       "currently_repaying_other_loans                   0.005651           NaN   \n",
       "total_credit_card_limit                         -0.000655           NaN   \n",
       "avg_percentage_credit_card_limit_used_last_year  0.001768           NaN   \n",
       "saving_amount                                   -0.004482           NaN   \n",
       "checking_amount                                 -0.000531           NaN   \n",
       "is_employed                                      0.012130           NaN   \n",
       "yearly_salary                                    0.006602           NaN   \n",
       "age                                              0.011177           NaN   \n",
       "dependent_number                                -0.000816           NaN   \n",
       "\n",
       "                                                 loan_repaid  is_first_loan  \\\n",
       "loan_id                                            -0.002704       0.002246   \n",
       "loan_granted                                             NaN            NaN   \n",
       "loan_repaid                                         1.000000       0.012824   \n",
       "is_first_loan                                       0.012824       1.000000   \n",
       "fully_repaid_previous_loans                         0.038665            NaN   \n",
       "currently_repaying_other_loans                     -0.496350            NaN   \n",
       "total_credit_card_limit                             0.401911       0.003657   \n",
       "avg_percentage_credit_card_limit_used_last_year    -0.209870      -0.004016   \n",
       "saving_amount                                       0.493699       0.009611   \n",
       "checking_amount                                     0.494341       0.010356   \n",
       "is_employed                                         0.305749      -0.000380   \n",
       "yearly_salary                                       0.426648      -0.002121   \n",
       "age                                                 0.000947       0.002591   \n",
       "dependent_number                                   -0.136384      -0.005861   \n",
       "\n",
       "                                                 fully_repaid_previous_loans  \\\n",
       "loan_id                                                             0.001710   \n",
       "loan_granted                                                             NaN   \n",
       "loan_repaid                                                         0.038665   \n",
       "is_first_loan                                                            NaN   \n",
       "fully_repaid_previous_loans                                         1.000000   \n",
       "currently_repaying_other_loans                                     -0.015923   \n",
       "total_credit_card_limit                                             0.031333   \n",
       "avg_percentage_credit_card_limit_used_last_year                    -0.001759   \n",
       "saving_amount                                                       0.014028   \n",
       "checking_amount                                                     0.020963   \n",
       "is_employed                                                         0.002697   \n",
       "yearly_salary                                                       0.008098   \n",
       "age                                                                 0.009527   \n",
       "dependent_number                                                    0.001105   \n",
       "\n",
       "                                                 currently_repaying_other_loans  \\\n",
       "loan_id                                                                0.005651   \n",
       "loan_granted                                                                NaN   \n",
       "loan_repaid                                                           -0.496350   \n",
       "is_first_loan                                                               NaN   \n",
       "fully_repaid_previous_loans                                           -0.015923   \n",
       "currently_repaying_other_loans                                         1.000000   \n",
       "total_credit_card_limit                                               -0.198214   \n",
       "avg_percentage_credit_card_limit_used_last_year                        0.094812   \n",
       "saving_amount                                                         -0.251634   \n",
       "checking_amount                                                       -0.248012   \n",
       "is_employed                                                           -0.154352   \n",
       "yearly_salary                                                         -0.215739   \n",
       "age                                                                   -0.008255   \n",
       "dependent_number                                                       0.075054   \n",
       "\n",
       "                                                 total_credit_card_limit  \\\n",
       "loan_id                                                        -0.000655   \n",
       "loan_granted                                                         NaN   \n",
       "loan_repaid                                                     0.401911   \n",
       "is_first_loan                                                   0.003657   \n",
       "fully_repaid_previous_loans                                     0.031333   \n",
       "currently_repaying_other_loans                                 -0.198214   \n",
       "total_credit_card_limit                                         1.000000   \n",
       "avg_percentage_credit_card_limit_used_last_year                -0.076596   \n",
       "saving_amount                                                   0.194137   \n",
       "checking_amount                                                 0.203409   \n",
       "is_employed                                                     0.156715   \n",
       "yearly_salary                                                   0.186868   \n",
       "age                                                             0.000168   \n",
       "dependent_number                                               -0.059254   \n",
       "\n",
       "                                                 avg_percentage_credit_card_limit_used_last_year  \\\n",
       "loan_id                                                                                 0.001768   \n",
       "loan_granted                                                                                 NaN   \n",
       "loan_repaid                                                                            -0.209870   \n",
       "is_first_loan                                                                          -0.004016   \n",
       "fully_repaid_previous_loans                                                            -0.001759   \n",
       "currently_repaying_other_loans                                                          0.094812   \n",
       "total_credit_card_limit                                                                -0.076596   \n",
       "avg_percentage_credit_card_limit_used_last_year                                         1.000000   \n",
       "saving_amount                                                                          -0.098045   \n",
       "checking_amount                                                                        -0.101262   \n",
       "is_employed                                                                            -0.089726   \n",
       "yearly_salary                                                                          -0.102187   \n",
       "age                                                                                     0.003110   \n",
       "dependent_number                                                                        0.026807   \n",
       "\n",
       "                                                 saving_amount  \\\n",
       "loan_id                                              -0.004482   \n",
       "loan_granted                                               NaN   \n",
       "loan_repaid                                           0.493699   \n",
       "is_first_loan                                         0.009611   \n",
       "fully_repaid_previous_loans                           0.014028   \n",
       "currently_repaying_other_loans                       -0.251634   \n",
       "total_credit_card_limit                               0.194137   \n",
       "avg_percentage_credit_card_limit_used_last_year      -0.098045   \n",
       "saving_amount                                         1.000000   \n",
       "checking_amount                                       0.238092   \n",
       "is_employed                                           0.148637   \n",
       "yearly_salary                                         0.210556   \n",
       "age                                                  -0.004327   \n",
       "dependent_number                                     -0.064931   \n",
       "\n",
       "                                                 checking_amount  is_employed  \\\n",
       "loan_id                                                -0.000531     0.012130   \n",
       "loan_granted                                                 NaN          NaN   \n",
       "loan_repaid                                             0.494341     0.305749   \n",
       "is_first_loan                                           0.010356    -0.000380   \n",
       "fully_repaid_previous_loans                             0.020963     0.002697   \n",
       "currently_repaying_other_loans                         -0.248012    -0.154352   \n",
       "total_credit_card_limit                                 0.203409     0.156715   \n",
       "avg_percentage_credit_card_limit_used_last_year        -0.101262    -0.089726   \n",
       "saving_amount                                           0.238092     0.148637   \n",
       "checking_amount                                         1.000000     0.151237   \n",
       "is_employed                                             0.151237     1.000000   \n",
       "yearly_salary                                           0.210244     0.565322   \n",
       "age                                                     0.005039     0.005004   \n",
       "dependent_number                                       -0.071816    -0.042867   \n",
       "\n",
       "                                                 yearly_salary       age  \\\n",
       "loan_id                                               0.006602  0.011177   \n",
       "loan_granted                                               NaN       NaN   \n",
       "loan_repaid                                           0.426648  0.000947   \n",
       "is_first_loan                                        -0.002121  0.002591   \n",
       "fully_repaid_previous_loans                           0.008098  0.009527   \n",
       "currently_repaying_other_loans                       -0.215739 -0.008255   \n",
       "total_credit_card_limit                               0.186868  0.000168   \n",
       "avg_percentage_credit_card_limit_used_last_year      -0.102187  0.003110   \n",
       "saving_amount                                         0.210556 -0.004327   \n",
       "checking_amount                                       0.210244  0.005039   \n",
       "is_employed                                           0.565322  0.005004   \n",
       "yearly_salary                                         1.000000  0.009329   \n",
       "age                                                   0.009329  1.000000   \n",
       "dependent_number                                     -0.063628 -0.001281   \n",
       "\n",
       "                                                 dependent_number  \n",
       "loan_id                                                 -0.000816  \n",
       "loan_granted                                                  NaN  \n",
       "loan_repaid                                             -0.136384  \n",
       "is_first_loan                                           -0.005861  \n",
       "fully_repaid_previous_loans                              0.001105  \n",
       "currently_repaying_other_loans                           0.075054  \n",
       "total_credit_card_limit                                 -0.059254  \n",
       "avg_percentage_credit_card_limit_used_last_year          0.026807  \n",
       "saving_amount                                           -0.064931  \n",
       "checking_amount                                         -0.071816  \n",
       "is_employed                                             -0.042867  \n",
       "yearly_salary                                           -0.063628  \n",
       "age                                                     -0.001281  \n",
       "dependent_number                                         1.000000  "
      ]
     },
     "execution_count": 60,
     "metadata": {},
     "output_type": "execute_result"
    }
   ],
   "source": [
    "df.corr()"
   ]
  },
  {
   "cell_type": "code",
   "execution_count": 26,
   "metadata": {
    "collapsed": true
   },
   "outputs": [
    {
     "data": {
      "image/png": "[encoded data removed]",
      "text/plain": [
       "<Figure size 864x720 with 2 Axes>"
      ]
     },
     "metadata": {
      "needs_background": "light"
     },
     "output_type": "display_data"
    }
   ],
   "source": [
    "# feature correlation\n",
    "fig, ax = plt.subplots(figsize=(12, 10))\n",
    "sns.heatmap(df.corr(), ax=ax)\n",
    "plt.show()"
   ]
  },
  {
   "cell_type": "markdown",
   "metadata": {},
   "source": [
    "We can observe from the heatmap that the variables fully_repaid_previous_loans and currently_repaying_other_loans are both highly correlated with the is_first_loan variable. Whenever, the is_first_loan is 1, the other two variables are both Nan. \n",
    "Hence, we can drop the is_first_loan column as it's information is already captured in the other two columns."
   ]
  },
  {
   "cell_type": "code",
   "execution_count": 8,
   "metadata": {},
   "outputs": [],
   "source": [
    "df.fillna({'currently_repaying_other_loans':-1,'fully_repaid_previous_loans':-1},inplace=True)\n",
    "df=df.drop(['is_first_loan'],axis=1)"
   ]
  },
  {
   "cell_type": "markdown",
   "metadata": {},
   "source": [
    "We can also see from the heatmap, that is_employed and yearly_salary are correlated. If the variable is_employed=0 then the salary for most rows is 0. Hence, I would only keep the yearly_Salary variable in the model."
   ]
  },
  {
   "cell_type": "code",
   "execution_count": 9,
   "metadata": {},
   "outputs": [],
   "source": [
    "df=df.drop(['loan_granted','yearly_salary','loan_id'],axis=1)\n",
    "df=df.drop(['date'],axis=1)"
   ]
  },
  {
   "cell_type": "code",
   "execution_count": 10,
   "metadata": {},
   "outputs": [],
   "source": [
    "#Preparing data for the model\n",
    "\n",
    "#One hot encoding\n",
    "#Since the variable loan_purpose has only 5 levels, ohe would work in this case.\n",
    "df=pd.get_dummies(df,drop_first=True)"
   ]
  },
  {
   "cell_type": "code",
   "execution_count": 11,
   "metadata": {},
   "outputs": [
    {
     "data": {
      "text/html": [
       "<div>\n",
       "<style scoped>\n",
       "    .dataframe tbody tr th:only-of-type {\n",
       "        vertical-align: middle;\n",
       "    }\n",
       "\n",
       "    .dataframe tbody tr th {\n",
       "        vertical-align: top;\n",
       "    }\n",
       "\n",
       "    .dataframe thead th {\n",
       "        text-align: right;\n",
       "    }\n",
       "</style>\n",
       "<table border=\"1\" class=\"dataframe\">\n",
       "  <thead>\n",
       "    <tr style=\"text-align: right;\">\n",
       "      <th></th>\n",
       "      <th>date</th>\n",
       "      <th>loan_repaid</th>\n",
       "      <th>fully_repaid_previous_loans</th>\n",
       "      <th>currently_repaying_other_loans</th>\n",
       "      <th>total_credit_card_limit</th>\n",
       "      <th>avg_percentage_credit_card_limit_used_last_year</th>\n",
       "      <th>saving_amount</th>\n",
       "      <th>checking_amount</th>\n",
       "      <th>is_employed</th>\n",
       "      <th>age</th>\n",
       "      <th>dependent_number</th>\n",
       "      <th>loan_purpose_emergency_funds</th>\n",
       "      <th>loan_purpose_home</th>\n",
       "      <th>loan_purpose_investment</th>\n",
       "      <th>loan_purpose_other</th>\n",
       "    </tr>\n",
       "  </thead>\n",
       "  <tbody>\n",
       "    <tr>\n",
       "      <th>3</th>\n",
       "      <td>2012-06-27</td>\n",
       "      <td>1.0</td>\n",
       "      <td>1.0</td>\n",
       "      <td>0.0</td>\n",
       "      <td>5400</td>\n",
       "      <td>0.52</td>\n",
       "      <td>3345</td>\n",
       "      <td>2764</td>\n",
       "      <td>1</td>\n",
       "      <td>58</td>\n",
       "      <td>4</td>\n",
       "      <td>0</td>\n",
       "      <td>0</td>\n",
       "      <td>0</td>\n",
       "      <td>1</td>\n",
       "    </tr>\n",
       "    <tr>\n",
       "      <th>4</th>\n",
       "      <td>2012-05-21</td>\n",
       "      <td>0.0</td>\n",
       "      <td>-1.0</td>\n",
       "      <td>-1.0</td>\n",
       "      <td>2900</td>\n",
       "      <td>0.76</td>\n",
       "      <td>1050</td>\n",
       "      <td>3695</td>\n",
       "      <td>1</td>\n",
       "      <td>31</td>\n",
       "      <td>4</td>\n",
       "      <td>0</td>\n",
       "      <td>0</td>\n",
       "      <td>0</td>\n",
       "      <td>0</td>\n",
       "    </tr>\n",
       "    <tr>\n",
       "      <th>6</th>\n",
       "      <td>2012-03-14</td>\n",
       "      <td>1.0</td>\n",
       "      <td>1.0</td>\n",
       "      <td>0.0</td>\n",
       "      <td>7800</td>\n",
       "      <td>0.30</td>\n",
       "      <td>4206</td>\n",
       "      <td>4368</td>\n",
       "      <td>1</td>\n",
       "      <td>51</td>\n",
       "      <td>2</td>\n",
       "      <td>0</td>\n",
       "      <td>0</td>\n",
       "      <td>0</td>\n",
       "      <td>0</td>\n",
       "    </tr>\n",
       "    <tr>\n",
       "      <th>7</th>\n",
       "      <td>2012-08-31</td>\n",
       "      <td>0.0</td>\n",
       "      <td>0.0</td>\n",
       "      <td>1.0</td>\n",
       "      <td>4300</td>\n",
       "      <td>1.02</td>\n",
       "      <td>886</td>\n",
       "      <td>1597</td>\n",
       "      <td>1</td>\n",
       "      <td>59</td>\n",
       "      <td>2</td>\n",
       "      <td>1</td>\n",
       "      <td>0</td>\n",
       "      <td>0</td>\n",
       "      <td>0</td>\n",
       "    </tr>\n",
       "    <tr>\n",
       "      <th>8</th>\n",
       "      <td>2012-05-25</td>\n",
       "      <td>1.0</td>\n",
       "      <td>1.0</td>\n",
       "      <td>0.0</td>\n",
       "      <td>3900</td>\n",
       "      <td>0.65</td>\n",
       "      <td>1837</td>\n",
       "      <td>3795</td>\n",
       "      <td>1</td>\n",
       "      <td>24</td>\n",
       "      <td>1</td>\n",
       "      <td>0</td>\n",
       "      <td>0</td>\n",
       "      <td>1</td>\n",
       "      <td>0</td>\n",
       "    </tr>\n",
       "  </tbody>\n",
       "</table>\n",
       "</div>"
      ],
      "text/plain": [
       "        date  loan_repaid  fully_repaid_previous_loans  \\\n",
       "3 2012-06-27          1.0                          1.0   \n",
       "4 2012-05-21          0.0                         -1.0   \n",
       "6 2012-03-14          1.0                          1.0   \n",
       "7 2012-08-31          0.0                          0.0   \n",
       "8 2012-05-25          1.0                          1.0   \n",
       "\n",
       "   currently_repaying_other_loans  total_credit_card_limit  \\\n",
       "3                             0.0                     5400   \n",
       "4                            -1.0                     2900   \n",
       "6                             0.0                     7800   \n",
       "7                             1.0                     4300   \n",
       "8                             0.0                     3900   \n",
       "\n",
       "   avg_percentage_credit_card_limit_used_last_year  saving_amount  \\\n",
       "3                                             0.52           3345   \n",
       "4                                             0.76           1050   \n",
       "6                                             0.30           4206   \n",
       "7                                             1.02            886   \n",
       "8                                             0.65           1837   \n",
       "\n",
       "   checking_amount  is_employed  age  dependent_number  \\\n",
       "3             2764            1   58                 4   \n",
       "4             3695            1   31                 4   \n",
       "6             4368            1   51                 2   \n",
       "7             1597            1   59                 2   \n",
       "8             3795            1   24                 1   \n",
       "\n",
       "   loan_purpose_emergency_funds  loan_purpose_home  loan_purpose_investment  \\\n",
       "3                             0                  0                        0   \n",
       "4                             0                  0                        0   \n",
       "6                             0                  0                        0   \n",
       "7                             1                  0                        0   \n",
       "8                             0                  0                        1   \n",
       "\n",
       "   loan_purpose_other  \n",
       "3                   1  \n",
       "4                   0  \n",
       "6                   0  \n",
       "7                   0  \n",
       "8                   0  "
      ]
     },
     "execution_count": 11,
     "metadata": {},
     "output_type": "execute_result"
    }
   ],
   "source": [
    "df.head()"
   ]
  },
  {
   "cell_type": "code",
   "execution_count": 18,
   "metadata": {},
   "outputs": [],
   "source": [
    "X= df.loc[:,df.columns != 'loan_repaid']\n",
    "Y= df['loan_repaid']"
   ]
  },
  {
   "cell_type": "code",
   "execution_count": 19,
   "metadata": {},
   "outputs": [],
   "source": [
    "#Splitting into train and test sets\n",
    "from sklearn.model_selection import train_test_split\n",
    "# split as training and test\n",
    "Xtrain,Xtest,ytrain,ytest = train_test_split(X,Y,test_size=0.3,random_state=0)\n",
    "\n",
    "# split the training data as training and validation\n",
    "Xtrain,Xvalid,ytrain,yvalid =  train_test_split(Xtrain,ytrain,test_size=0.2,random_state=0)"
   ]
  },
  {
   "cell_type": "markdown",
   "metadata": {},
   "source": [
    "### Parameter Tuning"
   ]
  },
  {
   "cell_type": "code",
   "execution_count": 20,
   "metadata": {},
   "outputs": [],
   "source": [
    "from sklearn.model_selection import GridSearchCV\n",
    "import xgboost as xgb\n",
    "from sklearn import  metrics\n",
    "def modelfit(alg, Xtrain, ytrain,useTrainCV=True, cv_folds=5, early_stopping_rounds=50):\n",
    "    \n",
    "    if useTrainCV:\n",
    "        xgb_param = alg.get_xgb_params()\n",
    "        xgtrain = xgb.DMatrix(Xtrain.values,ytrain.values)\n",
    "        cvresult = xgb.cv(xgb_param, xgtrain, num_boost_round=alg.get_params()['n_estimators'], nfold=cv_folds,metrics='auc', early_stopping_rounds=early_stopping_rounds,verbose_eval=False)\n",
    "        alg.set_params(n_estimators=cvresult.shape[0])\n",
    "    \n",
    "    #Fit the algorithm on the data\n",
    "    alg.fit(Xtrain, ytrain,eval_metric='auc')\n",
    "       \n",
    "    #Predict training set:\n",
    "    dtrain_predictions = alg.predict(Xtrain)\n",
    "    dtrain_predprob = alg.predict_proba(Xtrain)[:,1]\n",
    "        \n",
    "    #Print model report:\n",
    "    print (\"\\nModel Report\")\n",
    "    print (\"Accuracy : %.4g\" % metrics.accuracy_score(ytrain.values, dtrain_predictions))\n",
    "    print (\"AUC Score (Train): %f\" % metrics.roc_auc_score(ytrain, dtrain_predprob))\n",
    "    \n",
    "    print (\"parameters: {}\".format(xgb_param))\n",
    "    print (\"best {}: {:.2f}\".format( alg.best_score))\n",
    "    print (\"best #trees: %d\" % (alg.best_ntree_limit))\n",
    "           "
   ]
  },
  {
   "cell_type": "code",
   "execution_count": 21,
   "metadata": {},
   "outputs": [
    {
     "name": "stderr",
     "output_type": "stream",
     "text": [
      "C:\\Users\\sarva\\Anaconda3\\lib\\site-packages\\xgboost\\core.py:587: FutureWarning: Series.base is deprecated and will be removed in a future version\n",
      "  if getattr(data, 'base', None) is not None and \\\n"
     ]
    }
   ],
   "source": [
    "train_matrix = xgb.DMatrix(Xtrain,ytrain)\n",
    "valid_matrix = xgb.DMatrix(Xvalid,yvalid)\n",
    "test_matrix = xgb.DMatrix(Xtest,ytest)"
   ]
  },
  {
   "cell_type": "code",
   "execution_count": 22,
   "metadata": {},
   "outputs": [],
   "source": [
    "def train(params):\n",
    "    params['silent'] = 1\n",
    "    params['objective'] = 'binary:logistic' \n",
    "    params['eval_metric'] = 'auc'\n",
    "\n",
    "    num_rounds = params[\"num_rounds\"]\n",
    "    early_stopping_rounds = params[\"early_stop_rounds\"]\n",
    "\n",
    "    \n",
    "    watchlist = [(train_matrix, 'train'), (valid_matrix, 'validate')]\n",
    "    bst = xgb.train(params, train_matrix, num_rounds, watchlist, early_stopping_rounds=early_stopping_rounds)\n",
    "\n",
    "    print (\"parameters: {}\".format(params))\n",
    "    print (\"best {}: {:.2f}\".format(params[\"eval_metric\"], bst.best_score))\n",
    "    print (\"best #trees: %d\" % (bst.best_ntree_limit))\n",
    "\n",
    "    return bst"
   ]
  },
  {
   "cell_type": "markdown",
   "metadata": {},
   "source": [
    "Step 1: Fix learning rate and number of estimators for tuning tree-based parameters"
   ]
  },
  {
   "cell_type": "code",
   "execution_count": 23,
   "metadata": {
    "collapsed": true
   },
   "outputs": [
    {
     "name": "stdout",
     "output_type": "stream",
     "text": [
      "[0]\ttrain-auc:0.956691\tvalidate-auc:0.95213\n",
      "Multiple eval metrics have been passed: 'validate-auc' will be used for early stopping.\n",
      "\n",
      "Will train until validate-auc hasn't improved in 30 rounds.\n",
      "[1]\ttrain-auc:0.959056\tvalidate-auc:0.953407\n",
      "[2]\ttrain-auc:0.964073\tvalidate-auc:0.958874\n",
      "[3]\ttrain-auc:0.966333\tvalidate-auc:0.962163\n",
      "[4]\ttrain-auc:0.96575\tvalidate-auc:0.961456\n",
      "[5]\ttrain-auc:0.968026\tvalidate-auc:0.963874\n",
      "[6]\ttrain-auc:0.968456\tvalidate-auc:0.964506\n",
      "[7]\ttrain-auc:0.968634\tvalidate-auc:0.964564\n",
      "[8]\ttrain-auc:0.969115\tvalidate-auc:0.965092\n",
      "[9]\ttrain-auc:0.969245\tvalidate-auc:0.965261\n",
      "[10]\ttrain-auc:0.969872\tvalidate-auc:0.965885\n",
      "[11]\ttrain-auc:0.970284\tvalidate-auc:0.966119\n",
      "[12]\ttrain-auc:0.970434\tvalidate-auc:0.966102\n",
      "[13]\ttrain-auc:0.97054\tvalidate-auc:0.966122\n",
      "[14]\ttrain-auc:0.971\tvalidate-auc:0.966652\n",
      "[15]\ttrain-auc:0.971216\tvalidate-auc:0.966883\n",
      "[16]\ttrain-auc:0.971347\tvalidate-auc:0.966973\n",
      "[17]\ttrain-auc:0.971523\tvalidate-auc:0.967146\n",
      "[18]\ttrain-auc:0.971566\tvalidate-auc:0.967237\n",
      "[19]\ttrain-auc:0.971633\tvalidate-auc:0.967231\n",
      "[20]\ttrain-auc:0.971647\tvalidate-auc:0.967141\n",
      "[21]\ttrain-auc:0.972159\tvalidate-auc:0.967449\n",
      "[22]\ttrain-auc:0.972452\tvalidate-auc:0.967569\n",
      "[23]\ttrain-auc:0.972829\tvalidate-auc:0.967879\n",
      "[24]\ttrain-auc:0.973128\tvalidate-auc:0.9682\n",
      "[25]\ttrain-auc:0.97329\tvalidate-auc:0.96826\n",
      "[26]\ttrain-auc:0.973576\tvalidate-auc:0.968452\n",
      "[27]\ttrain-auc:0.9737\tvalidate-auc:0.968565\n",
      "[28]\ttrain-auc:0.973925\tvalidate-auc:0.968666\n",
      "[29]\ttrain-auc:0.974059\tvalidate-auc:0.968751\n",
      "[30]\ttrain-auc:0.974161\tvalidate-auc:0.968912\n",
      "[31]\ttrain-auc:0.974372\tvalidate-auc:0.96901\n",
      "[32]\ttrain-auc:0.974477\tvalidate-auc:0.969158\n",
      "[33]\ttrain-auc:0.974712\tvalidate-auc:0.96931\n",
      "[34]\ttrain-auc:0.974774\tvalidate-auc:0.969377\n",
      "[35]\ttrain-auc:0.974921\tvalidate-auc:0.969537\n",
      "[36]\ttrain-auc:0.975043\tvalidate-auc:0.969565\n",
      "[37]\ttrain-auc:0.975165\tvalidate-auc:0.969657\n",
      "[38]\ttrain-auc:0.975289\tvalidate-auc:0.969791\n",
      "[39]\ttrain-auc:0.975348\tvalidate-auc:0.969828\n",
      "[40]\ttrain-auc:0.975423\tvalidate-auc:0.969838\n",
      "[41]\ttrain-auc:0.975552\tvalidate-auc:0.969908\n",
      "[42]\ttrain-auc:0.975589\tvalidate-auc:0.969944\n",
      "[43]\ttrain-auc:0.975646\tvalidate-auc:0.969986\n",
      "[44]\ttrain-auc:0.97573\tvalidate-auc:0.970054\n",
      "[45]\ttrain-auc:0.975831\tvalidate-auc:0.970097\n",
      "[46]\ttrain-auc:0.975899\tvalidate-auc:0.97008\n",
      "[47]\ttrain-auc:0.975957\tvalidate-auc:0.970222\n",
      "[48]\ttrain-auc:0.976016\tvalidate-auc:0.970232\n",
      "[49]\ttrain-auc:0.976108\tvalidate-auc:0.970217\n",
      "[50]\ttrain-auc:0.976185\tvalidate-auc:0.970225\n",
      "[51]\ttrain-auc:0.976244\tvalidate-auc:0.970258\n",
      "[52]\ttrain-auc:0.976317\tvalidate-auc:0.970261\n",
      "[53]\ttrain-auc:0.976403\tvalidate-auc:0.970238\n",
      "[54]\ttrain-auc:0.976455\tvalidate-auc:0.970289\n",
      "[55]\ttrain-auc:0.976547\tvalidate-auc:0.970304\n",
      "[56]\ttrain-auc:0.976575\tvalidate-auc:0.970298\n",
      "[57]\ttrain-auc:0.976651\tvalidate-auc:0.970316\n",
      "[58]\ttrain-auc:0.976693\tvalidate-auc:0.970331\n",
      "[59]\ttrain-auc:0.976753\tvalidate-auc:0.970291\n",
      "[60]\ttrain-auc:0.976859\tvalidate-auc:0.970318\n",
      "[61]\ttrain-auc:0.976934\tvalidate-auc:0.97037\n",
      "[62]\ttrain-auc:0.977031\tvalidate-auc:0.970355\n",
      "[63]\ttrain-auc:0.977104\tvalidate-auc:0.970375\n",
      "[64]\ttrain-auc:0.977136\tvalidate-auc:0.970352\n",
      "[65]\ttrain-auc:0.977189\tvalidate-auc:0.970336\n",
      "[66]\ttrain-auc:0.977269\tvalidate-auc:0.970296\n",
      "[67]\ttrain-auc:0.97734\tvalidate-auc:0.970362\n",
      "[68]\ttrain-auc:0.977408\tvalidate-auc:0.970405\n",
      "[69]\ttrain-auc:0.977466\tvalidate-auc:0.970414\n",
      "[70]\ttrain-auc:0.97751\tvalidate-auc:0.970402\n",
      "[71]\ttrain-auc:0.977575\tvalidate-auc:0.970447\n",
      "[72]\ttrain-auc:0.977684\tvalidate-auc:0.970426\n",
      "[73]\ttrain-auc:0.977739\tvalidate-auc:0.97041\n",
      "[74]\ttrain-auc:0.977805\tvalidate-auc:0.970394\n",
      "[75]\ttrain-auc:0.977902\tvalidate-auc:0.970357\n",
      "[76]\ttrain-auc:0.977989\tvalidate-auc:0.970332\n",
      "[77]\ttrain-auc:0.97808\tvalidate-auc:0.970314\n",
      "[78]\ttrain-auc:0.978122\tvalidate-auc:0.970343\n",
      "[79]\ttrain-auc:0.978357\tvalidate-auc:0.970338\n",
      "[80]\ttrain-auc:0.978466\tvalidate-auc:0.970336\n",
      "[81]\ttrain-auc:0.978605\tvalidate-auc:0.970287\n",
      "[82]\ttrain-auc:0.978727\tvalidate-auc:0.970253\n",
      "[83]\ttrain-auc:0.978795\tvalidate-auc:0.970264\n",
      "[84]\ttrain-auc:0.978955\tvalidate-auc:0.970274\n",
      "[85]\ttrain-auc:0.978994\tvalidate-auc:0.970235\n",
      "[86]\ttrain-auc:0.979041\tvalidate-auc:0.970252\n",
      "[87]\ttrain-auc:0.979119\tvalidate-auc:0.970276\n",
      "[88]\ttrain-auc:0.979173\tvalidate-auc:0.970271\n",
      "[89]\ttrain-auc:0.979252\tvalidate-auc:0.970243\n",
      "[90]\ttrain-auc:0.979358\tvalidate-auc:0.97023\n",
      "[91]\ttrain-auc:0.979401\tvalidate-auc:0.970204\n",
      "[92]\ttrain-auc:0.979503\tvalidate-auc:0.970217\n",
      "[93]\ttrain-auc:0.979597\tvalidate-auc:0.970218\n",
      "[94]\ttrain-auc:0.97967\tvalidate-auc:0.970228\n",
      "[95]\ttrain-auc:0.97978\tvalidate-auc:0.970206\n",
      "[96]\ttrain-auc:0.979816\tvalidate-auc:0.970151\n",
      "[97]\ttrain-auc:0.97993\tvalidate-auc:0.970175\n",
      "[98]\ttrain-auc:0.980048\tvalidate-auc:0.970133\n",
      "[99]\ttrain-auc:0.980176\tvalidate-auc:0.970115\n",
      "[100]\ttrain-auc:0.980236\tvalidate-auc:0.970062\n",
      "[101]\ttrain-auc:0.980267\tvalidate-auc:0.970065\n",
      "Stopping. Best iteration:\n",
      "[71]\ttrain-auc:0.977575\tvalidate-auc:0.970447\n",
      "\n",
      "parameters: {'num_rounds': 300, 'early_stop_rounds': 30, 'max_depth': 6, 'eta': 0.1, 'subsample': 0.8, 'colsample_bytree': 0.8, 'silent': 1, 'objective': 'binary:logistic', 'eval_metric': 'auc'}\n",
      "best auc: 0.97\n",
      "best #trees: 72\n"
     ]
    }
   ],
   "source": [
    "from xgboost.sklearn import XGBClassifier\n",
    "params = {}\n",
    "params[\"num_rounds\"] = 300\n",
    "params[\"early_stop_rounds\"] = 30\n",
    "# params['min_child_weight'] = 2\n",
    "params['max_depth'] = 6\n",
    "params['eta'] = 0.1 #learning rate\n",
    "params[\"subsample\"] = 0.8\n",
    "params[\"colsample_bytree\"] = 0.8\n",
    "\n",
    "# ------------- train with xgboost\n",
    "bst = train(params)"
   ]
  },
  {
   "cell_type": "markdown",
   "metadata": {},
   "source": [
    "From here we can see that the best number of trees is 72"
   ]
  },
  {
   "cell_type": "code",
   "execution_count": 24,
   "metadata": {},
   "outputs": [
    {
     "data": {
      "text/plain": [
       "72"
      ]
     },
     "execution_count": 24,
     "metadata": {},
     "output_type": "execute_result"
    }
   ],
   "source": [
    "n_trees = bst.best_ntree_limit\n",
    "n_trees"
   ]
  },
  {
   "cell_type": "markdown",
   "metadata": {},
   "source": [
    "### Retrain the Model with all the training data"
   ]
  },
  {
   "cell_type": "code",
   "execution_count": 26,
   "metadata": {},
   "outputs": [],
   "source": [
    "# combine training set and validation set together\n",
    "Xalltrain = pd.concat([Xtrain,Xvalid],axis=0)\n",
    "yalltrain = pd.concat([ytrain,yvalid],axis=0)\n",
    "alltrain_matrix = xgb.DMatrix(Xalltrain,yalltrain)"
   ]
  },
  {
   "cell_type": "code",
   "execution_count": 27,
   "metadata": {},
   "outputs": [
    {
     "name": "stdout",
     "output_type": "stream",
     "text": [
      "[0]\ttrain-auc:0.95673\n",
      "[1]\ttrain-auc:0.960007\n",
      "[2]\ttrain-auc:0.96221\n",
      "[3]\ttrain-auc:0.962307\n",
      "[4]\ttrain-auc:0.962239\n",
      "[5]\ttrain-auc:0.960539\n",
      "[6]\ttrain-auc:0.96416\n",
      "[7]\ttrain-auc:0.966202\n",
      "[8]\ttrain-auc:0.967313\n",
      "[9]\ttrain-auc:0.966951\n",
      "[10]\ttrain-auc:0.968393\n",
      "[11]\ttrain-auc:0.969153\n",
      "[12]\ttrain-auc:0.969512\n",
      "[13]\ttrain-auc:0.969871\n",
      "[14]\ttrain-auc:0.970603\n",
      "[15]\ttrain-auc:0.970692\n",
      "[16]\ttrain-auc:0.971034\n",
      "[17]\ttrain-auc:0.971177\n",
      "[18]\ttrain-auc:0.971236\n",
      "[19]\ttrain-auc:0.971484\n",
      "[20]\ttrain-auc:0.971652\n",
      "[21]\ttrain-auc:0.971823\n",
      "[22]\ttrain-auc:0.972084\n",
      "[23]\ttrain-auc:0.972183\n",
      "[24]\ttrain-auc:0.972268\n",
      "[25]\ttrain-auc:0.972378\n",
      "[26]\ttrain-auc:0.972518\n",
      "[27]\ttrain-auc:0.972574\n",
      "[28]\ttrain-auc:0.972777\n",
      "[29]\ttrain-auc:0.972979\n",
      "[30]\ttrain-auc:0.973178\n",
      "[31]\ttrain-auc:0.973261\n",
      "[32]\ttrain-auc:0.973372\n",
      "[33]\ttrain-auc:0.973519\n",
      "[34]\ttrain-auc:0.973689\n",
      "[35]\ttrain-auc:0.973843\n",
      "[36]\ttrain-auc:0.973982\n",
      "[37]\ttrain-auc:0.974138\n",
      "[38]\ttrain-auc:0.974242\n",
      "[39]\ttrain-auc:0.974354\n",
      "[40]\ttrain-auc:0.974437\n",
      "[41]\ttrain-auc:0.974517\n",
      "[42]\ttrain-auc:0.974619\n",
      "[43]\ttrain-auc:0.974723\n",
      "[44]\ttrain-auc:0.974795\n",
      "[45]\ttrain-auc:0.974863\n",
      "[46]\ttrain-auc:0.974876\n",
      "[47]\ttrain-auc:0.974943\n",
      "[48]\ttrain-auc:0.975002\n",
      "[49]\ttrain-auc:0.975086\n",
      "[50]\ttrain-auc:0.975203\n",
      "[51]\ttrain-auc:0.975269\n",
      "[52]\ttrain-auc:0.97541\n",
      "[53]\ttrain-auc:0.975523\n",
      "[54]\ttrain-auc:0.975577\n",
      "[55]\ttrain-auc:0.975656\n",
      "[56]\ttrain-auc:0.975711\n",
      "[57]\ttrain-auc:0.97581\n",
      "[58]\ttrain-auc:0.975922\n",
      "[59]\ttrain-auc:0.975963\n",
      "[60]\ttrain-auc:0.976025\n",
      "[61]\ttrain-auc:0.976117\n",
      "[62]\ttrain-auc:0.976181\n",
      "[63]\ttrain-auc:0.976248\n",
      "[64]\ttrain-auc:0.976373\n",
      "[65]\ttrain-auc:0.976438\n",
      "[66]\ttrain-auc:0.976504\n",
      "[67]\ttrain-auc:0.976566\n",
      "[68]\ttrain-auc:0.976608\n",
      "[69]\ttrain-auc:0.976656\n",
      "[70]\ttrain-auc:0.976706\n",
      "[71]\ttrain-auc:0.97677\n"
     ]
    }
   ],
   "source": [
    "watchlist = [(alltrain_matrix, 'train')]\n",
    "all_bst = xgb.train(params, alltrain_matrix, n_trees,watchlist)"
   ]
  },
  {
   "cell_type": "markdown",
   "metadata": {},
   "source": [
    "### Choosing best threshold value (probability cutoff)"
   ]
  },
  {
   "cell_type": "code",
   "execution_count": 28,
   "metadata": {},
   "outputs": [],
   "source": [
    "from sklearn.metrics import roc_curve\n",
    "yvalid_true = valid_matrix.get_label()\n",
    "\n",
    "yvalid_pred_probas = bst.predict(valid_matrix, ntree_limit=bst.best_ntree_limit)\n",
    "\n",
    "fpr,tpr,thresholds = roc_curve(yvalid_true,yvalid_pred_probas)\n",
    "roc = pd.DataFrame({'FPR':fpr,'TPR':tpr,'Thresholds':thresholds})"
   ]
  },
  {
   "cell_type": "markdown",
   "metadata": {},
   "source": [
    "Looping through thresholds to maximize profit"
   ]
  },
  {
   "cell_type": "code",
   "execution_count": 29,
   "metadata": {},
   "outputs": [],
   "source": [
    "  \n",
    "def cal_profit(repaid_loan,probs,threshold):\n",
    "    total_profit = 0\n",
    "    for (repaid,prob) in zip(repaid_loan,probs):\n",
    "        if prob > threshold:\n",
    "            if repaid==1:\n",
    "                total_profit+=1\n",
    "            else: #repaid=0\n",
    "                total_profit+=-1\n",
    "            \n",
    "    return total_profit"
   ]
  },
  {
   "cell_type": "code",
   "execution_count": 30,
   "metadata": {},
   "outputs": [],
   "source": [
    "profits=[cal_profit(yvalid.values,yvalid_pred_probas,threshold) for threshold in roc.Thresholds]"
   ]
  },
  {
   "cell_type": "code",
   "execution_count": 31,
   "metadata": {},
   "outputs": [
    {
     "data": {
      "image/png": "[encoded data removed]",
      "text/plain": [
       "<Figure size 432x288 with 1 Axes>"
      ]
     },
     "metadata": {
      "needs_background": "light"
     },
     "output_type": "display_data"
    }
   ],
   "source": [
    "import matplotlib.pyplot as plt\n",
    "import numpy as np\n",
    "plt.plot(roc.Thresholds,profits)\n",
    "plt.yticks(range(-10000,4000,1000))\n",
    "_ = plt.xticks(np.linspace(0,1,11))\n",
    "plt.rc('figure',figsize=(8,8))"
   ]
  },
  {
   "cell_type": "code",
   "execution_count": 32,
   "metadata": {},
   "outputs": [
    {
     "name": "stderr",
     "output_type": "stream",
     "text": [
      "C:\\Users\\sarva\\Anaconda3\\lib\\site-packages\\ipykernel_launcher.py:2: FutureWarning: \n",
      "The current behaviour of 'Series.argmax' is deprecated, use 'idxmax'\n",
      "instead.\n",
      "The behavior of 'argmax' will be corrected to return the positional\n",
      "maximum in the future. For now, use 'series.values.argmax' or\n",
      "'np.argmax(np.array(values))' to get the position of the maximum\n",
      "row.\n",
      "  \n"
     ]
    },
    {
     "data": {
      "text/plain": [
       "threshold       0.507037\n",
       "profit       3696.000000\n",
       "Name: 622, dtype: float64"
      ]
     },
     "execution_count": 32,
     "metadata": {},
     "output_type": "execute_result"
    }
   ],
   "source": [
    "valid_threshold_profits = pd.DataFrame({'threshold':roc.Thresholds,'profit':profits})\n",
    "temp = valid_threshold_profits.loc[  valid_threshold_profits.profit.argmax()   ,:]\n",
    "temp"
   ]
  },
  {
   "cell_type": "markdown",
   "metadata": {},
   "source": [
    "We can see that the threshold should be 0.507."
   ]
  },
  {
   "cell_type": "markdown",
   "metadata": {},
   "source": [
    "### Test"
   ]
  },
  {
   "cell_type": "code",
   "execution_count": 33,
   "metadata": {},
   "outputs": [
    {
     "name": "stdout",
     "output_type": "stream",
     "text": [
      "test accuracy:  0.9078128278659858\n"
     ]
    }
   ],
   "source": [
    "from sklearn.metrics import classification_report,accuracy_score\n",
    "ytest_pred_probas = all_bst.predict(test_matrix, ntree_limit=n_trees)\n",
    "ytest_pred = (ytest_pred_probas>0.507).astype(int)\n",
    "\n",
    "print (\"test accuracy: \",accuracy_score(ytest,ytest_pred))"
   ]
  },
  {
   "cell_type": "code",
   "execution_count": 34,
   "metadata": {},
   "outputs": [
    {
     "name": "stdout",
     "output_type": "stream",
     "text": [
      "              precision    recall  f1-score   support\n",
      "\n",
      "         0.0       0.84      0.90      0.87      5011\n",
      "         1.0       0.95      0.91      0.93      9286\n",
      "\n",
      "    accuracy                           0.91     14297\n",
      "   macro avg       0.90      0.91      0.90     14297\n",
      "weighted avg       0.91      0.91      0.91     14297\n",
      "\n"
     ]
    }
   ],
   "source": [
    "print (classification_report(ytest,ytest_pred))"
   ]
  },
  {
   "cell_type": "markdown",
   "metadata": {},
   "source": [
    "### Comparing profits between old and new models"
   ]
  },
  {
   "cell_type": "code",
   "execution_count": 35,
   "metadata": {},
   "outputs": [],
   "source": [
    "def cal_profit_old(loan_repaid):\n",
    "    total_profit=0\n",
    "    for repaid in loan_repaid:\n",
    "        if repaid==1:\n",
    "            total_profit+=1\n",
    "        else:\n",
    "            total_profit+=-1\n",
    "    return total_profit"
   ]
  },
  {
   "cell_type": "code",
   "execution_count": 36,
   "metadata": {},
   "outputs": [
    {
     "data": {
      "text/plain": [
       "4275"
      ]
     },
     "execution_count": 36,
     "metadata": {},
     "output_type": "execute_result"
    }
   ],
   "source": [
    "#Profit due to old model\n",
    "cal_profit_old(ytest.values)"
   ]
  },
  {
   "cell_type": "code",
   "execution_count": 37,
   "metadata": {},
   "outputs": [
    {
     "data": {
      "text/plain": [
       "7966"
      ]
     },
     "execution_count": 37,
     "metadata": {},
     "output_type": "execute_result"
    }
   ],
   "source": [
    "#profit due to new model\n",
    "cal_profit(ytest.values,ytest_pred_probas,0.45)"
   ]
  },
  {
   "cell_type": "markdown",
   "metadata": {},
   "source": [
    "We can see a significant increase in profits if we use the new model where in a user is granted a loan if the model's predicted probablity is higher than the threshold value of 0.507."
   ]
  },
  {
   "cell_type": "markdown",
   "metadata": {},
   "source": [
    "### Important features"
   ]
  },
  {
   "cell_type": "code",
   "execution_count": 38,
   "metadata": {},
   "outputs": [
    {
     "data": {
      "text/plain": [
       "<matplotlib.axes._subplots.AxesSubplot at 0x11d88cdadd8>"
      ]
     },
     "execution_count": 38,
     "metadata": {},
     "output_type": "execute_result"
    },
    {
     "data": {
      "image/png": "[encoded data removed]",
      "text/plain": [
       "<Figure size 576x576 with 1 Axes>"
      ]
     },
     "metadata": {
      "needs_background": "light"
     },
     "output_type": "display_data"
    }
   ],
   "source": [
    "xgb.plot_importance(all_bst,title='Feature Importance')"
   ]
  },
  {
   "cell_type": "code",
   "execution_count": null,
   "metadata": {},
   "outputs": [],
   "source": []
  }
 ],
 "metadata": {
  "kernelspec": {
   "display_name": "Python 3",
   "language": "python",
   "name": "python3"
  },
  "language_info": {
   "codemirror_mode": {
    "name": "ipython",
    "version": 3
   },
   "file_extension": ".py",
   "mimetype": "text/x-python",
   "name": "python",
   "nbconvert_exporter": "python",
   "pygments_lexer": "ipython3",
   "version": "3.7.3"
  }
 },
 "nbformat": 4,
 "nbformat_minor": 2
}
