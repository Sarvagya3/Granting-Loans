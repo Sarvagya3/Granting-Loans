{
 "cells": [
  {
   "cell_type": "code",
   "execution_count": 2,
   "metadata": {},
   "outputs": [],
   "source": [
    "import pandas as pd\n",
    "import matplotlib.pyplot as plt\n",
    "import seaborn as sns"
   ]
  },
  {
   "cell_type": "code",
   "execution_count": 3,
   "metadata": {},
   "outputs": [],
   "source": [
    "loan_table=pd.read_csv(\"loan_table.csv.txt\",parse_dates=['date'])\n",
    "borrower_table=pd.read_csv(\"borrower_table.csv.txt\")"
   ]
  },
  {
   "cell_type": "code",
   "execution_count": 6,
   "metadata": {},
   "outputs": [
    {
     "data": {
      "text/html": [
       "<div>\n",
       "<style scoped>\n",
       "    .dataframe tbody tr th:only-of-type {\n",
       "        vertical-align: middle;\n",
       "    }\n",
       "\n",
       "    .dataframe tbody tr th {\n",
       "        vertical-align: top;\n",
       "    }\n",
       "\n",
       "    .dataframe thead th {\n",
       "        text-align: right;\n",
       "    }\n",
       "</style>\n",
       "<table border=\"1\" class=\"dataframe\">\n",
       "  <thead>\n",
       "    <tr style=\"text-align: right;\">\n",
       "      <th></th>\n",
       "      <th>loan_id</th>\n",
       "      <th>loan_purpose</th>\n",
       "      <th>date</th>\n",
       "      <th>loan_granted</th>\n",
       "      <th>loan_repaid</th>\n",
       "    </tr>\n",
       "  </thead>\n",
       "  <tbody>\n",
       "    <tr>\n",
       "      <th>0</th>\n",
       "      <td>19454</td>\n",
       "      <td>investment</td>\n",
       "      <td>2012-03-15</td>\n",
       "      <td>0</td>\n",
       "      <td>NaN</td>\n",
       "    </tr>\n",
       "    <tr>\n",
       "      <th>1</th>\n",
       "      <td>496811</td>\n",
       "      <td>investment</td>\n",
       "      <td>2012-01-17</td>\n",
       "      <td>0</td>\n",
       "      <td>NaN</td>\n",
       "    </tr>\n",
       "    <tr>\n",
       "      <th>2</th>\n",
       "      <td>929493</td>\n",
       "      <td>other</td>\n",
       "      <td>2012-02-09</td>\n",
       "      <td>0</td>\n",
       "      <td>NaN</td>\n",
       "    </tr>\n",
       "    <tr>\n",
       "      <th>3</th>\n",
       "      <td>580653</td>\n",
       "      <td>other</td>\n",
       "      <td>2012-06-27</td>\n",
       "      <td>1</td>\n",
       "      <td>1.0</td>\n",
       "    </tr>\n",
       "    <tr>\n",
       "      <th>4</th>\n",
       "      <td>172419</td>\n",
       "      <td>business</td>\n",
       "      <td>2012-05-21</td>\n",
       "      <td>1</td>\n",
       "      <td>0.0</td>\n",
       "    </tr>\n",
       "  </tbody>\n",
       "</table>\n",
       "</div>"
      ],
      "text/plain": [
       "   loan_id loan_purpose       date  loan_granted  loan_repaid\n",
       "0    19454   investment 2012-03-15             0          NaN\n",
       "1   496811   investment 2012-01-17             0          NaN\n",
       "2   929493        other 2012-02-09             0          NaN\n",
       "3   580653        other 2012-06-27             1          1.0\n",
       "4   172419     business 2012-05-21             1          0.0"
      ]
     },
     "execution_count": 6,
     "metadata": {},
     "output_type": "execute_result"
    }
   ],
   "source": [
    "loan_table.head()"
   ]
  },
  {
   "cell_type": "code",
   "execution_count": 4,
   "metadata": {},
   "outputs": [
    {
     "data": {
      "text/html": [
       "<div>\n",
       "<style scoped>\n",
       "    .dataframe tbody tr th:only-of-type {\n",
       "        vertical-align: middle;\n",
       "    }\n",
       "\n",
       "    .dataframe tbody tr th {\n",
       "        vertical-align: top;\n",
       "    }\n",
       "\n",
       "    .dataframe thead th {\n",
       "        text-align: right;\n",
       "    }\n",
       "</style>\n",
       "<table border=\"1\" class=\"dataframe\">\n",
       "  <thead>\n",
       "    <tr style=\"text-align: right;\">\n",
       "      <th></th>\n",
       "      <th>loan_id</th>\n",
       "      <th>is_first_loan</th>\n",
       "      <th>fully_repaid_previous_loans</th>\n",
       "      <th>currently_repaying_other_loans</th>\n",
       "      <th>total_credit_card_limit</th>\n",
       "      <th>avg_percentage_credit_card_limit_used_last_year</th>\n",
       "      <th>saving_amount</th>\n",
       "      <th>checking_amount</th>\n",
       "      <th>is_employed</th>\n",
       "      <th>yearly_salary</th>\n",
       "      <th>age</th>\n",
       "      <th>dependent_number</th>\n",
       "    </tr>\n",
       "  </thead>\n",
       "  <tbody>\n",
       "    <tr>\n",
       "      <th>0</th>\n",
       "      <td>289774</td>\n",
       "      <td>1</td>\n",
       "      <td>NaN</td>\n",
       "      <td>NaN</td>\n",
       "      <td>8000</td>\n",
       "      <td>0.49</td>\n",
       "      <td>3285</td>\n",
       "      <td>1073</td>\n",
       "      <td>0</td>\n",
       "      <td>0</td>\n",
       "      <td>47</td>\n",
       "      <td>3</td>\n",
       "    </tr>\n",
       "    <tr>\n",
       "      <th>1</th>\n",
       "      <td>482590</td>\n",
       "      <td>0</td>\n",
       "      <td>1.0</td>\n",
       "      <td>0.0</td>\n",
       "      <td>4500</td>\n",
       "      <td>1.03</td>\n",
       "      <td>636</td>\n",
       "      <td>5299</td>\n",
       "      <td>1</td>\n",
       "      <td>13500</td>\n",
       "      <td>33</td>\n",
       "      <td>1</td>\n",
       "    </tr>\n",
       "    <tr>\n",
       "      <th>2</th>\n",
       "      <td>135565</td>\n",
       "      <td>1</td>\n",
       "      <td>NaN</td>\n",
       "      <td>NaN</td>\n",
       "      <td>6900</td>\n",
       "      <td>0.82</td>\n",
       "      <td>2085</td>\n",
       "      <td>3422</td>\n",
       "      <td>1</td>\n",
       "      <td>24500</td>\n",
       "      <td>38</td>\n",
       "      <td>8</td>\n",
       "    </tr>\n",
       "    <tr>\n",
       "      <th>3</th>\n",
       "      <td>207797</td>\n",
       "      <td>0</td>\n",
       "      <td>1.0</td>\n",
       "      <td>0.0</td>\n",
       "      <td>1200</td>\n",
       "      <td>0.82</td>\n",
       "      <td>358</td>\n",
       "      <td>3388</td>\n",
       "      <td>0</td>\n",
       "      <td>0</td>\n",
       "      <td>24</td>\n",
       "      <td>1</td>\n",
       "    </tr>\n",
       "    <tr>\n",
       "      <th>4</th>\n",
       "      <td>828078</td>\n",
       "      <td>0</td>\n",
       "      <td>0.0</td>\n",
       "      <td>0.0</td>\n",
       "      <td>6900</td>\n",
       "      <td>0.80</td>\n",
       "      <td>2138</td>\n",
       "      <td>4282</td>\n",
       "      <td>1</td>\n",
       "      <td>18100</td>\n",
       "      <td>36</td>\n",
       "      <td>1</td>\n",
       "    </tr>\n",
       "  </tbody>\n",
       "</table>\n",
       "</div>"
      ],
      "text/plain": [
       "   loan_id  is_first_loan  fully_repaid_previous_loans  \\\n",
       "0   289774              1                          NaN   \n",
       "1   482590              0                          1.0   \n",
       "2   135565              1                          NaN   \n",
       "3   207797              0                          1.0   \n",
       "4   828078              0                          0.0   \n",
       "\n",
       "   currently_repaying_other_loans  total_credit_card_limit  \\\n",
       "0                             NaN                     8000   \n",
       "1                             0.0                     4500   \n",
       "2                             NaN                     6900   \n",
       "3                             0.0                     1200   \n",
       "4                             0.0                     6900   \n",
       "\n",
       "   avg_percentage_credit_card_limit_used_last_year  saving_amount  \\\n",
       "0                                             0.49           3285   \n",
       "1                                             1.03            636   \n",
       "2                                             0.82           2085   \n",
       "3                                             0.82            358   \n",
       "4                                             0.80           2138   \n",
       "\n",
       "   checking_amount  is_employed  yearly_salary  age  dependent_number  \n",
       "0             1073            0              0   47                 3  \n",
       "1             5299            1          13500   33                 1  \n",
       "2             3422            1          24500   38                 8  \n",
       "3             3388            0              0   24                 1  \n",
       "4             4282            1          18100   36                 1  "
      ]
     },
     "execution_count": 4,
     "metadata": {},
     "output_type": "execute_result"
    }
   ],
   "source": [
    "borrower_table.head()"
   ]
  },
  {
   "cell_type": "code",
   "execution_count": 57,
   "metadata": {},
   "outputs": [],
   "source": [
    "#merge the tables\n",
    "df=pd.merge(loan_table,borrower_table,on='loan_id')\n",
    "\n",
    "# choose data with loan granted \n",
    "# the data with loan not granted is not useful for profit calculation\n",
    "df = df[df['loan_granted'] == 1]"
   ]
  },
  {
   "cell_type": "code",
   "execution_count": 58,
   "metadata": {},
   "outputs": [
    {
     "data": {
      "text/html": [
       "<div>\n",
       "<style scoped>\n",
       "    .dataframe tbody tr th:only-of-type {\n",
       "        vertical-align: middle;\n",
       "    }\n",
       "\n",
       "    .dataframe tbody tr th {\n",
       "        vertical-align: top;\n",
       "    }\n",
       "\n",
       "    .dataframe thead th {\n",
       "        text-align: right;\n",
       "    }\n",
       "</style>\n",
       "<table border=\"1\" class=\"dataframe\">\n",
       "  <thead>\n",
       "    <tr style=\"text-align: right;\">\n",
       "      <th></th>\n",
       "      <th>loan_id</th>\n",
       "      <th>loan_purpose</th>\n",
       "      <th>date</th>\n",
       "      <th>loan_granted</th>\n",
       "      <th>loan_repaid</th>\n",
       "      <th>is_first_loan</th>\n",
       "      <th>fully_repaid_previous_loans</th>\n",
       "      <th>currently_repaying_other_loans</th>\n",
       "      <th>total_credit_card_limit</th>\n",
       "      <th>avg_percentage_credit_card_limit_used_last_year</th>\n",
       "      <th>saving_amount</th>\n",
       "      <th>checking_amount</th>\n",
       "      <th>is_employed</th>\n",
       "      <th>yearly_salary</th>\n",
       "      <th>age</th>\n",
       "      <th>dependent_number</th>\n",
       "    </tr>\n",
       "  </thead>\n",
       "  <tbody>\n",
       "    <tr>\n",
       "      <th>3</th>\n",
       "      <td>580653</td>\n",
       "      <td>other</td>\n",
       "      <td>2012-06-27</td>\n",
       "      <td>1</td>\n",
       "      <td>1.0</td>\n",
       "      <td>0</td>\n",
       "      <td>1.0</td>\n",
       "      <td>0.0</td>\n",
       "      <td>5400</td>\n",
       "      <td>0.52</td>\n",
       "      <td>3345</td>\n",
       "      <td>2764</td>\n",
       "      <td>1</td>\n",
       "      <td>15800</td>\n",
       "      <td>58</td>\n",
       "      <td>4</td>\n",
       "    </tr>\n",
       "    <tr>\n",
       "      <th>4</th>\n",
       "      <td>172419</td>\n",
       "      <td>business</td>\n",
       "      <td>2012-05-21</td>\n",
       "      <td>1</td>\n",
       "      <td>0.0</td>\n",
       "      <td>1</td>\n",
       "      <td>NaN</td>\n",
       "      <td>NaN</td>\n",
       "      <td>2900</td>\n",
       "      <td>0.76</td>\n",
       "      <td>1050</td>\n",
       "      <td>3695</td>\n",
       "      <td>1</td>\n",
       "      <td>34800</td>\n",
       "      <td>31</td>\n",
       "      <td>4</td>\n",
       "    </tr>\n",
       "    <tr>\n",
       "      <th>6</th>\n",
       "      <td>780070</td>\n",
       "      <td>business</td>\n",
       "      <td>2012-03-14</td>\n",
       "      <td>1</td>\n",
       "      <td>1.0</td>\n",
       "      <td>0</td>\n",
       "      <td>1.0</td>\n",
       "      <td>0.0</td>\n",
       "      <td>7800</td>\n",
       "      <td>0.30</td>\n",
       "      <td>4206</td>\n",
       "      <td>4368</td>\n",
       "      <td>1</td>\n",
       "      <td>51100</td>\n",
       "      <td>51</td>\n",
       "      <td>2</td>\n",
       "    </tr>\n",
       "    <tr>\n",
       "      <th>7</th>\n",
       "      <td>303138</td>\n",
       "      <td>emergency_funds</td>\n",
       "      <td>2012-08-31</td>\n",
       "      <td>1</td>\n",
       "      <td>0.0</td>\n",
       "      <td>0</td>\n",
       "      <td>0.0</td>\n",
       "      <td>1.0</td>\n",
       "      <td>4300</td>\n",
       "      <td>1.02</td>\n",
       "      <td>886</td>\n",
       "      <td>1597</td>\n",
       "      <td>1</td>\n",
       "      <td>15000</td>\n",
       "      <td>59</td>\n",
       "      <td>2</td>\n",
       "    </tr>\n",
       "    <tr>\n",
       "      <th>8</th>\n",
       "      <td>91475</td>\n",
       "      <td>investment</td>\n",
       "      <td>2012-05-25</td>\n",
       "      <td>1</td>\n",
       "      <td>1.0</td>\n",
       "      <td>0</td>\n",
       "      <td>1.0</td>\n",
       "      <td>0.0</td>\n",
       "      <td>3900</td>\n",
       "      <td>0.65</td>\n",
       "      <td>1837</td>\n",
       "      <td>3795</td>\n",
       "      <td>1</td>\n",
       "      <td>12000</td>\n",
       "      <td>24</td>\n",
       "      <td>1</td>\n",
       "    </tr>\n",
       "  </tbody>\n",
       "</table>\n",
       "</div>"
      ],
      "text/plain": [
       "   loan_id     loan_purpose       date  loan_granted  loan_repaid  \\\n",
       "3   580653            other 2012-06-27             1          1.0   \n",
       "4   172419         business 2012-05-21             1          0.0   \n",
       "6   780070         business 2012-03-14             1          1.0   \n",
       "7   303138  emergency_funds 2012-08-31             1          0.0   \n",
       "8    91475       investment 2012-05-25             1          1.0   \n",
       "\n",
       "   is_first_loan  fully_repaid_previous_loans  currently_repaying_other_loans  \\\n",
       "3              0                          1.0                             0.0   \n",
       "4              1                          NaN                             NaN   \n",
       "6              0                          1.0                             0.0   \n",
       "7              0                          0.0                             1.0   \n",
       "8              0                          1.0                             0.0   \n",
       "\n",
       "   total_credit_card_limit  avg_percentage_credit_card_limit_used_last_year  \\\n",
       "3                     5400                                             0.52   \n",
       "4                     2900                                             0.76   \n",
       "6                     7800                                             0.30   \n",
       "7                     4300                                             1.02   \n",
       "8                     3900                                             0.65   \n",
       "\n",
       "   saving_amount  checking_amount  is_employed  yearly_salary  age  \\\n",
       "3           3345             2764            1          15800   58   \n",
       "4           1050             3695            1          34800   31   \n",
       "6           4206             4368            1          51100   51   \n",
       "7            886             1597            1          15000   59   \n",
       "8           1837             3795            1          12000   24   \n",
       "\n",
       "   dependent_number  \n",
       "3                 4  \n",
       "4                 4  \n",
       "6                 2  \n",
       "7                 2  \n",
       "8                 1  "
      ]
     },
     "execution_count": 58,
     "metadata": {},
     "output_type": "execute_result"
    }
   ],
   "source": [
    "df.head()"
   ]
  },
  {
   "cell_type": "code",
   "execution_count": null,
   "metadata": {},
   "outputs": [],
   "source": [
    "#EDA : visualize features and find correlation with the target variable: loan_repaid"
   ]
  },
  {
   "cell_type": "code",
   "execution_count": 15,
   "metadata": {},
   "outputs": [],
   "source": [
    "def visualize(col_name):\n",
    "    fig,ax= plt.subplots(nrows=1, ncols=2, figsize=(16, 6))\n",
    "    sns.countplot(x=col_name, data=df, ax=ax[0])\n",
    "    ax[0].set_xlabel(col_name, fontsize=12)\n",
    "    ax[0].set_ylabel('Count', fontsize=12)\n",
    "    ax[0].set_title('Count Plot of' +\" \"+col_name, fontsize=16)\n",
    "\n",
    "    sns.barplot(x=col_name, y='loan_repaid', data=df, ax=ax[1])\n",
    "    ax[1].set_xlabel(col_name, fontsize=12)\n",
    "    ax[1].set_ylabel('Loan Repaid Ratio', fontsize=12)\n",
    "    ax[1].set_title('Loan Repaid Ratio vs.' +' '+ col_name, fontsize=16)\n",
    "    plt.tight_layout()\n",
    "    plt.show()"
   ]
  },
  {
   "cell_type": "code",
   "execution_count": 21,
   "metadata": {},
   "outputs": [
    {
     "data": {
      "image/png": "[encoded data removed]",
      "text/plain": [
       "<Figure size 1152x432 with 2 Axes>"
      ]
     },
     "metadata": {
      "needs_background": "light"
     },
     "output_type": "display_data"
    }
   ],
   "source": [
    "visualize('loan_purpose')"
   ]
  },
  {
   "cell_type": "code",
   "execution_count": 22,
   "metadata": {
    "collapsed": true
   },
   "outputs": [
    {
     "data": {
      "image/png": "[encoded data removed]",
      "text/plain": [
       "<Figure size 1152x432 with 2 Axes>"
      ]
     },
     "metadata": {
      "needs_background": "light"
     },
     "output_type": "display_data"
    }
   ],
   "source": [
    "visualize('fully_repaid_previous_loans')"
   ]
  },
  {
   "cell_type": "code",
   "execution_count": 23,
   "metadata": {
    "collapsed": true
   },
   "outputs": [
    {
     "data": {
      "image/png": "[encoded data removed]",
      "text/plain": [
       "<Figure size 1152x432 with 2 Axes>"
      ]
     },
     "metadata": {
      "needs_background": "light"
     },
     "output_type": "display_data"
    }
   ],
   "source": [
    "visualize('currently_repaying_other_loans')"
   ]
  },
  {
   "cell_type": "markdown",
   "metadata": {},
   "source": [
    "Other factors can be visualized similarly. \n",
    "We can get the correlations between each variable to see how each affects the loan_repaid variable."
   ]
  },
  {
   "cell_type": "markdown",
   "metadata": {},
   "source": [
    "### Feature Engineering"
   ]
  },
  {
   "cell_type": "code",
   "execution_count": 60,
   "metadata": {},
   "outputs": [
    {
     "data": {
      "text/html": [
       "<div>\n",
       "<style scoped>\n",
       "    .dataframe tbody tr th:only-of-type {\n",
       "        vertical-align: middle;\n",
       "    }\n",
       "\n",
       "    .dataframe tbody tr th {\n",
       "        vertical-align: top;\n",
       "    }\n",
       "\n",
       "    .dataframe thead th {\n",
       "        text-align: right;\n",
       "    }\n",
       "</style>\n",
       "<table border=\"1\" class=\"dataframe\">\n",
       "  <thead>\n",
       "    <tr style=\"text-align: right;\">\n",
       "      <th></th>\n",
       "      <th>loan_id</th>\n",
       "      <th>loan_granted</th>\n",
       "      <th>loan_repaid</th>\n",
       "      <th>is_first_loan</th>\n",
       "      <th>fully_repaid_previous_loans</th>\n",
       "      <th>currently_repaying_other_loans</th>\n",
       "      <th>total_credit_card_limit</th>\n",
       "      <th>avg_percentage_credit_card_limit_used_last_year</th>\n",
       "      <th>saving_amount</th>\n",
       "      <th>checking_amount</th>\n",
       "      <th>is_employed</th>\n",
       "      <th>yearly_salary</th>\n",
       "      <th>age</th>\n",
       "      <th>dependent_number</th>\n",
       "    </tr>\n",
       "  </thead>\n",
       "  <tbody>\n",
       "    <tr>\n",
       "      <th>loan_id</th>\n",
       "      <td>1.000000</td>\n",
       "      <td>NaN</td>\n",
       "      <td>-0.002704</td>\n",
       "      <td>0.002246</td>\n",
       "      <td>0.001710</td>\n",
       "      <td>0.005651</td>\n",
       "      <td>-0.000655</td>\n",
       "      <td>0.001768</td>\n",
       "      <td>-0.004482</td>\n",
       "      <td>-0.000531</td>\n",
       "      <td>0.012130</td>\n",
       "      <td>0.006602</td>\n",
       "      <td>0.011177</td>\n",
       "      <td>-0.000816</td>\n",
       "    </tr>\n",
       "    <tr>\n",
       "      <th>loan_granted</th>\n",
       "      <td>NaN</td>\n",
       "      <td>NaN</td>\n",
       "      <td>NaN</td>\n",
       "      <td>NaN</td>\n",
       "      <td>NaN</td>\n",
       "      <td>NaN</td>\n",
       "      <td>NaN</td>\n",
       "      <td>NaN</td>\n",
       "      <td>NaN</td>\n",
       "      <td>NaN</td>\n",
       "      <td>NaN</td>\n",
       "      <td>NaN</td>\n",
       "      <td>NaN</td>\n",
       "      <td>NaN</td>\n",
       "    </tr>\n",
       "    <tr>\n",
       "      <th>loan_repaid</th>\n",
       "      <td>-0.002704</td>\n",
       "      <td>NaN</td>\n",
       "      <td>1.000000</td>\n",
       "      <td>0.012824</td>\n",
       "      <td>0.038665</td>\n",
       "      <td>-0.496350</td>\n",
       "      <td>0.401911</td>\n",
       "      <td>-0.209870</td>\n",
       "      <td>0.493699</td>\n",
       "      <td>0.494341</td>\n",
       "      <td>0.305749</td>\n",
       "      <td>0.426648</td>\n",
       "      <td>0.000947</td>\n",
       "      <td>-0.136384</td>\n",
       "    </tr>\n",
       "    <tr>\n",
       "      <th>is_first_loan</th>\n",
       "      <td>0.002246</td>\n",
       "      <td>NaN</td>\n",
       "      <td>0.012824</td>\n",
       "      <td>1.000000</td>\n",
       "      <td>NaN</td>\n",
       "      <td>NaN</td>\n",
       "      <td>0.003657</td>\n",
       "      <td>-0.004016</td>\n",
       "      <td>0.009611</td>\n",
       "      <td>0.010356</td>\n",
       "      <td>-0.000380</td>\n",
       "      <td>-0.002121</td>\n",
       "      <td>0.002591</td>\n",
       "      <td>-0.005861</td>\n",
       "    </tr>\n",
       "    <tr>\n",
       "      <th>fully_repaid_previous_loans</th>\n",
       "      <td>0.001710</td>\n",
       "      <td>NaN</td>\n",
       "      <td>0.038665</td>\n",
       "      <td>NaN</td>\n",
       "      <td>1.000000</td>\n",
       "      <td>-0.015923</td>\n",
       "      <td>0.031333</td>\n",
       "      <td>-0.001759</td>\n",
       "      <td>0.014028</td>\n",
       "      <td>0.020963</td>\n",
       "      <td>0.002697</td>\n",
       "      <td>0.008098</td>\n",
       "      <td>0.009527</td>\n",
       "      <td>0.001105</td>\n",
       "    </tr>\n",
       "    <tr>\n",
       "      <th>currently_repaying_other_loans</th>\n",
       "      <td>0.005651</td>\n",
       "      <td>NaN</td>\n",
       "      <td>-0.496350</td>\n",
       "      <td>NaN</td>\n",
       "      <td>-0.015923</td>\n",
       "      <td>1.000000</td>\n",
       "      <td>-0.198214</td>\n",
       "      <td>0.094812</td>\n",
       "      <td>-0.251634</td>\n",
       "      <td>-0.248012</td>\n",
       "      <td>-0.154352</td>\n",
       "      <td>-0.215739</td>\n",
       "      <td>-0.008255</td>\n",
       "      <td>0.075054</td>\n",
       "    </tr>\n",
       "    <tr>\n",
       "      <th>total_credit_card_limit</th>\n",
       "      <td>-0.000655</td>\n",
       "      <td>NaN</td>\n",
       "      <td>0.401911</td>\n",
       "      <td>0.003657</td>\n",
       "      <td>0.031333</td>\n",
       "      <td>-0.198214</td>\n",
       "      <td>1.000000</td>\n",
       "      <td>-0.076596</td>\n",
       "      <td>0.194137</td>\n",
       "      <td>0.203409</td>\n",
       "      <td>0.156715</td>\n",
       "      <td>0.186868</td>\n",
       "      <td>0.000168</td>\n",
       "      <td>-0.059254</td>\n",
       "    </tr>\n",
       "    <tr>\n",
       "      <th>avg_percentage_credit_card_limit_used_last_year</th>\n",
       "      <td>0.001768</td>\n",
       "      <td>NaN</td>\n",
       "      <td>-0.209870</td>\n",
       "      <td>-0.004016</td>\n",
       "      <td>-0.001759</td>\n",
       "      <td>0.094812</td>\n",
       "      <td>-0.076596</td>\n",
       "      <td>1.000000</td>\n",
       "      <td>-0.098045</td>\n",
       "      <td>-0.101262</td>\n",
       "      <td>-0.089726</td>\n",
       "      <td>-0.102187</td>\n",
       "      <td>0.003110</td>\n",
       "      <td>0.026807</td>\n",
       "    </tr>\n",
       "    <tr>\n",
       "      <th>saving_amount</th>\n",
       "      <td>-0.004482</td>\n",
       "      <td>NaN</td>\n",
       "      <td>0.493699</td>\n",
       "      <td>0.009611</td>\n",
       "      <td>0.014028</td>\n",
       "      <td>-0.251634</td>\n",
       "      <td>0.194137</td>\n",
       "      <td>-0.098045</td>\n",
       "      <td>1.000000</td>\n",
       "      <td>0.238092</td>\n",
       "      <td>0.148637</td>\n",
       "      <td>0.210556</td>\n",
       "      <td>-0.004327</td>\n",
       "      <td>-0.064931</td>\n",
       "    </tr>\n",
       "    <tr>\n",
       "      <th>checking_amount</th>\n",
       "      <td>-0.000531</td>\n",
       "      <td>NaN</td>\n",
       "      <td>0.494341</td>\n",
       "      <td>0.010356</td>\n",
       "      <td>0.020963</td>\n",
       "      <td>-0.248012</td>\n",
       "      <td>0.203409</td>\n",
       "      <td>-0.101262</td>\n",
       "      <td>0.238092</td>\n",
       "      <td>1.000000</td>\n",
       "      <td>0.151237</td>\n",
       "      <td>0.210244</td>\n",
       "      <td>0.005039</td>\n",
       "      <td>-0.071816</td>\n",
       "    </tr>\n",
       "    <tr>\n",
       "      <th>is_employed</th>\n",
       "      <td>0.012130</td>\n",
       "      <td>NaN</td>\n",
       "      <td>0.305749</td>\n",
       "      <td>-0.000380</td>\n",
       "      <td>0.002697</td>\n",
       "      <td>-0.154352</td>\n",
       "      <td>0.156715</td>\n",
       "      <td>-0.089726</td>\n",
       "      <td>0.148637</td>\n",
       "      <td>0.151237</td>\n",
       "      <td>1.000000</td>\n",
       "      <td>0.565322</td>\n",
       "      <td>0.005004</td>\n",
       "      <td>-0.042867</td>\n",
       "    </tr>\n",
       "    <tr>\n",
       "      <th>yearly_salary</th>\n",
       "      <td>0.006602</td>\n",
       "      <td>NaN</td>\n",
       "      <td>0.426648</td>\n",
       "      <td>-0.002121</td>\n",
       "      <td>0.008098</td>\n",
       "      <td>-0.215739</td>\n",
       "      <td>0.186868</td>\n",
       "      <td>-0.102187</td>\n",
       "      <td>0.210556</td>\n",
       "      <td>0.210244</td>\n",
       "      <td>0.565322</td>\n",
       "      <td>1.000000</td>\n",
       "      <td>0.009329</td>\n",
       "      <td>-0.063628</td>\n",
       "    </tr>\n",
       "    <tr>\n",
       "      <th>age</th>\n",
       "      <td>0.011177</td>\n",
       "      <td>NaN</td>\n",
       "      <td>0.000947</td>\n",
       "      <td>0.002591</td>\n",
       "      <td>0.009527</td>\n",
       "      <td>-0.008255</td>\n",
       "      <td>0.000168</td>\n",
       "      <td>0.003110</td>\n",
       "      <td>-0.004327</td>\n",
       "      <td>0.005039</td>\n",
       "      <td>0.005004</td>\n",
       "      <td>0.009329</td>\n",
       "      <td>1.000000</td>\n",
       "      <td>-0.001281</td>\n",
       "    </tr>\n",
       "    <tr>\n",
       "      <th>dependent_number</th>\n",
       "      <td>-0.000816</td>\n",
       "      <td>NaN</td>\n",
       "      <td>-0.136384</td>\n",
       "      <td>-0.005861</td>\n",
       "      <td>0.001105</td>\n",
       "      <td>0.075054</td>\n",
       "      <td>-0.059254</td>\n",
       "      <td>0.026807</td>\n",
       "      <td>-0.064931</td>\n",
       "      <td>-0.071816</td>\n",
       "      <td>-0.042867</td>\n",
       "      <td>-0.063628</td>\n",
       "      <td>-0.001281</td>\n",
       "      <td>1.000000</td>\n",
       "    </tr>\n",
       "  </tbody>\n",
       "</table>\n",
       "</div>"
      ],
      "text/plain": [
       "                                                  loan_id  loan_granted  \\\n",
       "loan_id                                          1.000000           NaN   \n",
       "loan_granted                                          NaN           NaN   \n",
       "loan_repaid                                     -0.002704           NaN   \n",
       "is_first_loan                                    0.002246           NaN   \n",
       "fully_repaid_previous_loans                      0.001710           NaN   \n",
       "currently_repaying_other_loans                   0.005651           NaN   \n",
       "total_credit_card_limit                         -0.000655           NaN   \n",
       "avg_percentage_credit_card_limit_used_last_year  0.001768           NaN   \n",
       "saving_amount                                   -0.004482           NaN   \n",
       "checking_amount                                 -0.000531           NaN   \n",
       "is_employed                                      0.012130           NaN   \n",
       "yearly_salary                                    0.006602           NaN   \n",
       "age                                              0.011177           NaN   \n",
       "dependent_number                                -0.000816           NaN   \n",
       "\n",
       "                                                 loan_repaid  is_first_loan  \\\n",
       "loan_id                                            -0.002704       0.002246   \n",
       "loan_granted                                             NaN            NaN   \n",
       "loan_repaid                                         1.000000       0.012824   \n",
       "is_first_loan                                       0.012824       1.000000   \n",
       "fully_repaid_previous_loans                         0.038665            NaN   \n",
       "currently_repaying_other_loans                     -0.496350            NaN   \n",
       "total_credit_card_limit                             0.401911       0.003657   \n",
       "avg_percentage_credit_card_limit_used_last_year    -0.209870      -0.004016   \n",
       "saving_amount                                       0.493699       0.009611   \n",
       "checking_amount                                     0.494341       0.010356   \n",
       "is_employed                                         0.305749      -0.000380   \n",
       "yearly_salary                                       0.426648      -0.002121   \n",
       "age                                                 0.000947       0.002591   \n",
       "dependent_number                                   -0.136384      -0.005861   \n",
       "\n",
       "                                                 fully_repaid_previous_loans  \\\n",
       "loan_id                                                             0.001710   \n",
       "loan_granted                                                             NaN   \n",
       "loan_repaid                                                         0.038665   \n",
       "is_first_loan                                                            NaN   \n",
       "fully_repaid_previous_loans                                         1.000000   \n",
       "currently_repaying_other_loans                                     -0.015923   \n",
       "total_credit_card_limit                                             0.031333   \n",
       "avg_percentage_credit_card_limit_used_last_year                    -0.001759   \n",
       "saving_amount                                                       0.014028   \n",
       "checking_amount                                                     0.020963   \n",
       "is_employed                                                         0.002697   \n",
       "yearly_salary                                                       0.008098   \n",
       "age                                                                 0.009527   \n",
       "dependent_number                                                    0.001105   \n",
       "\n",
       "                                                 currently_repaying_other_loans  \\\n",
       "loan_id                                                                0.005651   \n",
       "loan_granted                                                                NaN   \n",
       "loan_repaid                                                           -0.496350   \n",
       "is_first_loan                                                               NaN   \n",
       "fully_repaid_previous_loans                                           -0.015923   \n",
       "currently_repaying_other_loans                                         1.000000   \n",
       "total_credit_card_limit                                               -0.198214   \n",
       "avg_percentage_credit_card_limit_used_last_year                        0.094812   \n",
       "saving_amount                                                         -0.251634   \n",
       "checking_amount                                                       -0.248012   \n",
       "is_employed                                                           -0.154352   \n",
       "yearly_salary                                                         -0.215739   \n",
       "age                                                                   -0.008255   \n",
       "dependent_number                                                       0.075054   \n",
       "\n",
       "                                                 total_credit_card_limit  \\\n",
       "loan_id                                                        -0.000655   \n",
       "loan_granted                                                         NaN   \n",
       "loan_repaid                                                     0.401911   \n",
       "is_first_loan                                                   0.003657   \n",
       "fully_repaid_previous_loans                                     0.031333   \n",
       "currently_repaying_other_loans                                 -0.198214   \n",
       "total_credit_card_limit                                         1.000000   \n",
       "avg_percentage_credit_card_limit_used_last_year                -0.076596   \n",
       "saving_amount                                                   0.194137   \n",
       "checking_amount                                                 0.203409   \n",
       "is_employed                                                     0.156715   \n",
       "yearly_salary                                                   0.186868   \n",
       "age                                                             0.000168   \n",
       "dependent_number                                               -0.059254   \n",
       "\n",
       "                                                 avg_percentage_credit_card_limit_used_last_year  \\\n",
       "loan_id                                                                                 0.001768   \n",
       "loan_granted                                                                                 NaN   \n",
       "loan_repaid                                                                            -0.209870   \n",
       "is_first_loan                                                                          -0.004016   \n",
       "fully_repaid_previous_loans                                                            -0.001759   \n",
       "currently_repaying_other_loans                                                          0.094812   \n",
       "total_credit_card_limit                                                                -0.076596   \n",
       "avg_percentage_credit_card_limit_used_last_year                                         1.000000   \n",
       "saving_amount                                                                          -0.098045   \n",
       "checking_amount                                                                        -0.101262   \n",
       "is_employed                                                                            -0.089726   \n",
       "yearly_salary                                                                          -0.102187   \n",
       "age                                                                                     0.003110   \n",
       "dependent_number                                                                        0.026807   \n",
       "\n",
       "                                                 saving_amount  \\\n",
       "loan_id                                              -0.004482   \n",
       "loan_granted                                               NaN   \n",
       "loan_repaid                                           0.493699   \n",
       "is_first_loan                                         0.009611   \n",
       "fully_repaid_previous_loans                           0.014028   \n",
       "currently_repaying_other_loans                       -0.251634   \n",
       "total_credit_card_limit                               0.194137   \n",
       "avg_percentage_credit_card_limit_used_last_year      -0.098045   \n",
       "saving_amount                                         1.000000   \n",
       "checking_amount                                       0.238092   \n",
       "is_employed                                           0.148637   \n",
       "yearly_salary                                         0.210556   \n",
       "age                                                  -0.004327   \n",
       "dependent_number                                     -0.064931   \n",
       "\n",
       "                                                 checking_amount  is_employed  \\\n",
       "loan_id                                                -0.000531     0.012130   \n",
       "loan_granted                                                 NaN          NaN   \n",
       "loan_repaid                                             0.494341     0.305749   \n",
       "is_first_loan                                           0.010356    -0.000380   \n",
       "fully_repaid_previous_loans                             0.020963     0.002697   \n",
       "currently_repaying_other_loans                         -0.248012    -0.154352   \n",
       "total_credit_card_limit                                 0.203409     0.156715   \n",
       "avg_percentage_credit_card_limit_used_last_year        -0.101262    -0.089726   \n",
       "saving_amount                                           0.238092     0.148637   \n",
       "checking_amount                                         1.000000     0.151237   \n",
       "is_employed                                             0.151237     1.000000   \n",
       "yearly_salary                                           0.210244     0.565322   \n",
       "age                                                     0.005039     0.005004   \n",
       "dependent_number                                       -0.071816    -0.042867   \n",
       "\n",
       "                                                 yearly_salary       age  \\\n",
       "loan_id                                               0.006602  0.011177   \n",
       "loan_granted                                               NaN       NaN   \n",
       "loan_repaid                                           0.426648  0.000947   \n",
       "is_first_loan                                        -0.002121  0.002591   \n",
       "fully_repaid_previous_loans                           0.008098  0.009527   \n",
       "currently_repaying_other_loans                       -0.215739 -0.008255   \n",
       "total_credit_card_limit                               0.186868  0.000168   \n",
       "avg_percentage_credit_card_limit_used_last_year      -0.102187  0.003110   \n",
       "saving_amount                                         0.210556 -0.004327   \n",
       "checking_amount                                       0.210244  0.005039   \n",
       "is_employed                                           0.565322  0.005004   \n",
       "yearly_salary                                         1.000000  0.009329   \n",
       "age                                                   0.009329  1.000000   \n",
       "dependent_number                                     -0.063628 -0.001281   \n",
       "\n",
       "                                                 dependent_number  \n",
       "loan_id                                                 -0.000816  \n",
       "loan_granted                                                  NaN  \n",
       "loan_repaid                                             -0.136384  \n",
       "is_first_loan                                           -0.005861  \n",
       "fully_repaid_previous_loans                              0.001105  \n",
       "currently_repaying_other_loans                           0.075054  \n",
       "total_credit_card_limit                                 -0.059254  \n",
       "avg_percentage_credit_card_limit_used_last_year          0.026807  \n",
       "saving_amount                                           -0.064931  \n",
       "checking_amount                                         -0.071816  \n",
       "is_employed                                             -0.042867  \n",
       "yearly_salary                                           -0.063628  \n",
       "age                                                     -0.001281  \n",
       "dependent_number                                         1.000000  "
      ]
     },
     "execution_count": 60,
     "metadata": {},
     "output_type": "execute_result"
    }
   ],
   "source": [
    "df.corr()"
   ]
  },
  {
   "cell_type": "code",
   "execution_count": 26,
   "metadata": {
    "collapsed": true
   },
   "outputs": [
    {
     "data": {
      "image/png": "[encoded data removed]",
      "text/plain": [
       "<Figure size 864x720 with 2 Axes>"
      ]
     },
     "metadata": {
      "needs_background": "light"
     },
     "output_type": "display_data"
    }
   ],
   "source": [
    "# feature correlation\n",
    "fig, ax = plt.subplots(figsize=(12, 10))\n",
    "sns.heatmap(df.corr(), ax=ax)\n",
    "plt.show()"
   ]
  },
  {
   "cell_type": "markdown",
   "metadata": {},
   "source": [
    "We can observe from the heatmap that the variables fully_repaid_previous_loans and currently_repaying_other_loans are both highly correlated with the is_first_loan variable. Whenever, the is_first_loan is 1, the other two variables are both Nan. \n",
    "Hence, we can drop the is_first_loan column as it's information is already captured in the other two columns."
   ]
  },
  {
   "cell_type": "code",
   "execution_count": 61,
   "metadata": {},
   "outputs": [],
   "source": [
    "df.fillna({'currently_repaying_other_loans':-1,'fully_repaid_previous_loans':-1},inplace=True)\n",
    "df=df.drop(['is_first_loan'],axis=1)"
   ]
  },
  {
   "cell_type": "markdown",
   "metadata": {},
   "source": [
    "We can also see from the heatmap, that is_employed and yearly_salary are correlated. If the variable is_employed=0 then the salary for most rows is 0. Hence, I would only keep the yearly_Salary variable in the model."
   ]
  },
  {
   "cell_type": "code",
   "execution_count": 62,
   "metadata": {},
   "outputs": [],
   "source": [
    "df=df.drop(['loan_granted','yearly_salary'],axis=1)"
   ]
  },
  {
   "cell_type": "code",
   "execution_count": 63,
   "metadata": {},
   "outputs": [],
   "source": [
    "#Preparing data for the model\n",
    "\n",
    "#One hot encoding\n",
    "#Since the variable loan_purpose has only 5 levels, ohe would work in this case.\n",
    "df=pd.get_dummies(df,drop_first=True)"
   ]
  },
  {
   "cell_type": "code",
   "execution_count": 64,
   "metadata": {},
   "outputs": [
    {
     "data": {
      "text/html": [
       "<div>\n",
       "<style scoped>\n",
       "    .dataframe tbody tr th:only-of-type {\n",
       "        vertical-align: middle;\n",
       "    }\n",
       "\n",
       "    .dataframe tbody tr th {\n",
       "        vertical-align: top;\n",
       "    }\n",
       "\n",
       "    .dataframe thead th {\n",
       "        text-align: right;\n",
       "    }\n",
       "</style>\n",
       "<table border=\"1\" class=\"dataframe\">\n",
       "  <thead>\n",
       "    <tr style=\"text-align: right;\">\n",
       "      <th></th>\n",
       "      <th>loan_id</th>\n",
       "      <th>date</th>\n",
       "      <th>loan_repaid</th>\n",
       "      <th>fully_repaid_previous_loans</th>\n",
       "      <th>currently_repaying_other_loans</th>\n",
       "      <th>total_credit_card_limit</th>\n",
       "      <th>avg_percentage_credit_card_limit_used_last_year</th>\n",
       "      <th>saving_amount</th>\n",
       "      <th>checking_amount</th>\n",
       "      <th>is_employed</th>\n",
       "      <th>age</th>\n",
       "      <th>dependent_number</th>\n",
       "      <th>loan_purpose_emergency_funds</th>\n",
       "      <th>loan_purpose_home</th>\n",
       "      <th>loan_purpose_investment</th>\n",
       "      <th>loan_purpose_other</th>\n",
       "    </tr>\n",
       "  </thead>\n",
       "  <tbody>\n",
       "    <tr>\n",
       "      <th>3</th>\n",
       "      <td>580653</td>\n",
       "      <td>2012-06-27</td>\n",
       "      <td>1.0</td>\n",
       "      <td>1.0</td>\n",
       "      <td>0.0</td>\n",
       "      <td>5400</td>\n",
       "      <td>0.52</td>\n",
       "      <td>3345</td>\n",
       "      <td>2764</td>\n",
       "      <td>1</td>\n",
       "      <td>58</td>\n",
       "      <td>4</td>\n",
       "      <td>0</td>\n",
       "      <td>0</td>\n",
       "      <td>0</td>\n",
       "      <td>1</td>\n",
       "    </tr>\n",
       "    <tr>\n",
       "      <th>4</th>\n",
       "      <td>172419</td>\n",
       "      <td>2012-05-21</td>\n",
       "      <td>0.0</td>\n",
       "      <td>-1.0</td>\n",
       "      <td>-1.0</td>\n",
       "      <td>2900</td>\n",
       "      <td>0.76</td>\n",
       "      <td>1050</td>\n",
       "      <td>3695</td>\n",
       "      <td>1</td>\n",
       "      <td>31</td>\n",
       "      <td>4</td>\n",
       "      <td>0</td>\n",
       "      <td>0</td>\n",
       "      <td>0</td>\n",
       "      <td>0</td>\n",
       "    </tr>\n",
       "    <tr>\n",
       "      <th>6</th>\n",
       "      <td>780070</td>\n",
       "      <td>2012-03-14</td>\n",
       "      <td>1.0</td>\n",
       "      <td>1.0</td>\n",
       "      <td>0.0</td>\n",
       "      <td>7800</td>\n",
       "      <td>0.30</td>\n",
       "      <td>4206</td>\n",
       "      <td>4368</td>\n",
       "      <td>1</td>\n",
       "      <td>51</td>\n",
       "      <td>2</td>\n",
       "      <td>0</td>\n",
       "      <td>0</td>\n",
       "      <td>0</td>\n",
       "      <td>0</td>\n",
       "    </tr>\n",
       "    <tr>\n",
       "      <th>7</th>\n",
       "      <td>303138</td>\n",
       "      <td>2012-08-31</td>\n",
       "      <td>0.0</td>\n",
       "      <td>0.0</td>\n",
       "      <td>1.0</td>\n",
       "      <td>4300</td>\n",
       "      <td>1.02</td>\n",
       "      <td>886</td>\n",
       "      <td>1597</td>\n",
       "      <td>1</td>\n",
       "      <td>59</td>\n",
       "      <td>2</td>\n",
       "      <td>1</td>\n",
       "      <td>0</td>\n",
       "      <td>0</td>\n",
       "      <td>0</td>\n",
       "    </tr>\n",
       "    <tr>\n",
       "      <th>8</th>\n",
       "      <td>91475</td>\n",
       "      <td>2012-05-25</td>\n",
       "      <td>1.0</td>\n",
       "      <td>1.0</td>\n",
       "      <td>0.0</td>\n",
       "      <td>3900</td>\n",
       "      <td>0.65</td>\n",
       "      <td>1837</td>\n",
       "      <td>3795</td>\n",
       "      <td>1</td>\n",
       "      <td>24</td>\n",
       "      <td>1</td>\n",
       "      <td>0</td>\n",
       "      <td>0</td>\n",
       "      <td>1</td>\n",
       "      <td>0</td>\n",
       "    </tr>\n",
       "  </tbody>\n",
       "</table>\n",
       "</div>"
      ],
      "text/plain": [
       "   loan_id       date  loan_repaid  fully_repaid_previous_loans  \\\n",
       "3   580653 2012-06-27          1.0                          1.0   \n",
       "4   172419 2012-05-21          0.0                         -1.0   \n",
       "6   780070 2012-03-14          1.0                          1.0   \n",
       "7   303138 2012-08-31          0.0                          0.0   \n",
       "8    91475 2012-05-25          1.0                          1.0   \n",
       "\n",
       "   currently_repaying_other_loans  total_credit_card_limit  \\\n",
       "3                             0.0                     5400   \n",
       "4                            -1.0                     2900   \n",
       "6                             0.0                     7800   \n",
       "7                             1.0                     4300   \n",
       "8                             0.0                     3900   \n",
       "\n",
       "   avg_percentage_credit_card_limit_used_last_year  saving_amount  \\\n",
       "3                                             0.52           3345   \n",
       "4                                             0.76           1050   \n",
       "6                                             0.30           4206   \n",
       "7                                             1.02            886   \n",
       "8                                             0.65           1837   \n",
       "\n",
       "   checking_amount  is_employed  age  dependent_number  \\\n",
       "3             2764            1   58                 4   \n",
       "4             3695            1   31                 4   \n",
       "6             4368            1   51                 2   \n",
       "7             1597            1   59                 2   \n",
       "8             3795            1   24                 1   \n",
       "\n",
       "   loan_purpose_emergency_funds  loan_purpose_home  loan_purpose_investment  \\\n",
       "3                             0                  0                        0   \n",
       "4                             0                  0                        0   \n",
       "6                             0                  0                        0   \n",
       "7                             1                  0                        0   \n",
       "8                             0                  0                        1   \n",
       "\n",
       "   loan_purpose_other  \n",
       "3                   1  \n",
       "4                   0  \n",
       "6                   0  \n",
       "7                   0  \n",
       "8                   0  "
      ]
     },
     "execution_count": 64,
     "metadata": {},
     "output_type": "execute_result"
    }
   ],
   "source": [
    "df.head()"
   ]
  },
  {
   "cell_type": "code",
   "execution_count": 72,
   "metadata": {},
   "outputs": [],
   "source": [
    "#df=df.drop(['loan_id','date'],axis=1)\n",
    "X= df.loc[:,df.columns != 'loan_repaid']\n",
    "Y= df['loan_repaid']"
   ]
  },
  {
   "cell_type": "code",
   "execution_count": 69,
   "metadata": {
    "collapsed": true
   },
   "outputs": [
    {
     "ename": "KeyError",
     "evalue": "\"['date'] not found in axis\"",
     "output_type": "error",
     "traceback": [
      "\u001b[1;31m---------------------------------------------------------------------------\u001b[0m",
      "\u001b[1;31mKeyError\u001b[0m                                  Traceback (most recent call last)",
      "\u001b[1;32m<ipython-input-69-6258459521b6>\u001b[0m in \u001b[0;36m<module>\u001b[1;34m\u001b[0m\n\u001b[1;32m----> 1\u001b[1;33m \u001b[0mdf\u001b[0m\u001b[1;33m=\u001b[0m\u001b[0mdf\u001b[0m\u001b[1;33m.\u001b[0m\u001b[0mdrop\u001b[0m\u001b[1;33m(\u001b[0m\u001b[1;33m[\u001b[0m\u001b[1;34m'date'\u001b[0m\u001b[1;33m]\u001b[0m\u001b[1;33m,\u001b[0m\u001b[0maxis\u001b[0m\u001b[1;33m=\u001b[0m\u001b[1;36m1\u001b[0m\u001b[1;33m)\u001b[0m\u001b[1;33m\u001b[0m\u001b[1;33m\u001b[0m\u001b[0m\n\u001b[0m",
      "\u001b[1;32m~\\Anaconda3\\lib\\site-packages\\pandas\\core\\frame.py\u001b[0m in \u001b[0;36mdrop\u001b[1;34m(self, labels, axis, index, columns, level, inplace, errors)\u001b[0m\n\u001b[0;32m   3938\u001b[0m                                            \u001b[0mindex\u001b[0m\u001b[1;33m=\u001b[0m\u001b[0mindex\u001b[0m\u001b[1;33m,\u001b[0m \u001b[0mcolumns\u001b[0m\u001b[1;33m=\u001b[0m\u001b[0mcolumns\u001b[0m\u001b[1;33m,\u001b[0m\u001b[1;33m\u001b[0m\u001b[1;33m\u001b[0m\u001b[0m\n\u001b[0;32m   3939\u001b[0m                                            \u001b[0mlevel\u001b[0m\u001b[1;33m=\u001b[0m\u001b[0mlevel\u001b[0m\u001b[1;33m,\u001b[0m \u001b[0minplace\u001b[0m\u001b[1;33m=\u001b[0m\u001b[0minplace\u001b[0m\u001b[1;33m,\u001b[0m\u001b[1;33m\u001b[0m\u001b[1;33m\u001b[0m\u001b[0m\n\u001b[1;32m-> 3940\u001b[1;33m                                            errors=errors)\n\u001b[0m\u001b[0;32m   3941\u001b[0m \u001b[1;33m\u001b[0m\u001b[0m\n\u001b[0;32m   3942\u001b[0m     @rewrite_axis_style_signature('mapper', [('copy', True),\n",
      "\u001b[1;32m~\\Anaconda3\\lib\\site-packages\\pandas\\core\\generic.py\u001b[0m in \u001b[0;36mdrop\u001b[1;34m(self, labels, axis, index, columns, level, inplace, errors)\u001b[0m\n\u001b[0;32m   3778\u001b[0m         \u001b[1;32mfor\u001b[0m \u001b[0maxis\u001b[0m\u001b[1;33m,\u001b[0m \u001b[0mlabels\u001b[0m \u001b[1;32min\u001b[0m \u001b[0maxes\u001b[0m\u001b[1;33m.\u001b[0m\u001b[0mitems\u001b[0m\u001b[1;33m(\u001b[0m\u001b[1;33m)\u001b[0m\u001b[1;33m:\u001b[0m\u001b[1;33m\u001b[0m\u001b[1;33m\u001b[0m\u001b[0m\n\u001b[0;32m   3779\u001b[0m             \u001b[1;32mif\u001b[0m \u001b[0mlabels\u001b[0m \u001b[1;32mis\u001b[0m \u001b[1;32mnot\u001b[0m \u001b[1;32mNone\u001b[0m\u001b[1;33m:\u001b[0m\u001b[1;33m\u001b[0m\u001b[1;33m\u001b[0m\u001b[0m\n\u001b[1;32m-> 3780\u001b[1;33m                 \u001b[0mobj\u001b[0m \u001b[1;33m=\u001b[0m \u001b[0mobj\u001b[0m\u001b[1;33m.\u001b[0m\u001b[0m_drop_axis\u001b[0m\u001b[1;33m(\u001b[0m\u001b[0mlabels\u001b[0m\u001b[1;33m,\u001b[0m \u001b[0maxis\u001b[0m\u001b[1;33m,\u001b[0m \u001b[0mlevel\u001b[0m\u001b[1;33m=\u001b[0m\u001b[0mlevel\u001b[0m\u001b[1;33m,\u001b[0m \u001b[0merrors\u001b[0m\u001b[1;33m=\u001b[0m\u001b[0merrors\u001b[0m\u001b[1;33m)\u001b[0m\u001b[1;33m\u001b[0m\u001b[1;33m\u001b[0m\u001b[0m\n\u001b[0m\u001b[0;32m   3781\u001b[0m \u001b[1;33m\u001b[0m\u001b[0m\n\u001b[0;32m   3782\u001b[0m         \u001b[1;32mif\u001b[0m \u001b[0minplace\u001b[0m\u001b[1;33m:\u001b[0m\u001b[1;33m\u001b[0m\u001b[1;33m\u001b[0m\u001b[0m\n",
      "\u001b[1;32m~\\Anaconda3\\lib\\site-packages\\pandas\\core\\generic.py\u001b[0m in \u001b[0;36m_drop_axis\u001b[1;34m(self, labels, axis, level, errors)\u001b[0m\n\u001b[0;32m   3810\u001b[0m                 \u001b[0mnew_axis\u001b[0m \u001b[1;33m=\u001b[0m \u001b[0maxis\u001b[0m\u001b[1;33m.\u001b[0m\u001b[0mdrop\u001b[0m\u001b[1;33m(\u001b[0m\u001b[0mlabels\u001b[0m\u001b[1;33m,\u001b[0m \u001b[0mlevel\u001b[0m\u001b[1;33m=\u001b[0m\u001b[0mlevel\u001b[0m\u001b[1;33m,\u001b[0m \u001b[0merrors\u001b[0m\u001b[1;33m=\u001b[0m\u001b[0merrors\u001b[0m\u001b[1;33m)\u001b[0m\u001b[1;33m\u001b[0m\u001b[1;33m\u001b[0m\u001b[0m\n\u001b[0;32m   3811\u001b[0m             \u001b[1;32melse\u001b[0m\u001b[1;33m:\u001b[0m\u001b[1;33m\u001b[0m\u001b[1;33m\u001b[0m\u001b[0m\n\u001b[1;32m-> 3812\u001b[1;33m                 \u001b[0mnew_axis\u001b[0m \u001b[1;33m=\u001b[0m \u001b[0maxis\u001b[0m\u001b[1;33m.\u001b[0m\u001b[0mdrop\u001b[0m\u001b[1;33m(\u001b[0m\u001b[0mlabels\u001b[0m\u001b[1;33m,\u001b[0m \u001b[0merrors\u001b[0m\u001b[1;33m=\u001b[0m\u001b[0merrors\u001b[0m\u001b[1;33m)\u001b[0m\u001b[1;33m\u001b[0m\u001b[1;33m\u001b[0m\u001b[0m\n\u001b[0m\u001b[0;32m   3813\u001b[0m             \u001b[0mresult\u001b[0m \u001b[1;33m=\u001b[0m \u001b[0mself\u001b[0m\u001b[1;33m.\u001b[0m\u001b[0mreindex\u001b[0m\u001b[1;33m(\u001b[0m\u001b[1;33m**\u001b[0m\u001b[1;33m{\u001b[0m\u001b[0maxis_name\u001b[0m\u001b[1;33m:\u001b[0m \u001b[0mnew_axis\u001b[0m\u001b[1;33m}\u001b[0m\u001b[1;33m)\u001b[0m\u001b[1;33m\u001b[0m\u001b[1;33m\u001b[0m\u001b[0m\n\u001b[0;32m   3814\u001b[0m \u001b[1;33m\u001b[0m\u001b[0m\n",
      "\u001b[1;32m~\\Anaconda3\\lib\\site-packages\\pandas\\core\\indexes\\base.py\u001b[0m in \u001b[0;36mdrop\u001b[1;34m(self, labels, errors)\u001b[0m\n\u001b[0;32m   4963\u001b[0m             \u001b[1;32mif\u001b[0m \u001b[0merrors\u001b[0m \u001b[1;33m!=\u001b[0m \u001b[1;34m'ignore'\u001b[0m\u001b[1;33m:\u001b[0m\u001b[1;33m\u001b[0m\u001b[1;33m\u001b[0m\u001b[0m\n\u001b[0;32m   4964\u001b[0m                 raise KeyError(\n\u001b[1;32m-> 4965\u001b[1;33m                     '{} not found in axis'.format(labels[mask]))\n\u001b[0m\u001b[0;32m   4966\u001b[0m             \u001b[0mindexer\u001b[0m \u001b[1;33m=\u001b[0m \u001b[0mindexer\u001b[0m\u001b[1;33m[\u001b[0m\u001b[1;33m~\u001b[0m\u001b[0mmask\u001b[0m\u001b[1;33m]\u001b[0m\u001b[1;33m\u001b[0m\u001b[1;33m\u001b[0m\u001b[0m\n\u001b[0;32m   4967\u001b[0m         \u001b[1;32mreturn\u001b[0m \u001b[0mself\u001b[0m\u001b[1;33m.\u001b[0m\u001b[0mdelete\u001b[0m\u001b[1;33m(\u001b[0m\u001b[0mindexer\u001b[0m\u001b[1;33m)\u001b[0m\u001b[1;33m\u001b[0m\u001b[1;33m\u001b[0m\u001b[0m\n",
      "\u001b[1;31mKeyError\u001b[0m: \"['date'] not found in axis\""
     ]
    }
   ],
   "source": [
    "df=df.drop(['date'],axis=1)"
   ]
  },
  {
   "cell_type": "code",
   "execution_count": 73,
   "metadata": {},
   "outputs": [],
   "source": [
    "#Splitting into train and test sets\n",
    "from sklearn.model_selection import train_test_split\n",
    "# split as training and test\n",
    "Xtrain,Xtest,ytrain,ytest = train_test_split(X,Y,test_size=0.3,random_state=0)\n",
    "\n",
    "# split the training data as training and validation\n",
    "Xtrain,Xvalid,ytrain,yvalid =  train_test_split(Xtrain,ytrain,test_size=0.2,random_state=0)"
   ]
  },
  {
   "cell_type": "markdown",
   "metadata": {},
   "source": [
    "### Parameter Tuning"
   ]
  },
  {
   "cell_type": "code",
   "execution_count": 100,
   "metadata": {},
   "outputs": [],
   "source": [
    "from sklearn.model_selection import GridSearchCV\n",
    "import xgboost as xgb\n",
    "from sklearn import  metrics\n",
    "def modelfit(alg, Xtrain, ytrain,useTrainCV=True, cv_folds=5, early_stopping_rounds=50):\n",
    "    \n",
    "    if useTrainCV:\n",
    "        xgb_param = alg.get_xgb_params()\n",
    "        xgtrain = xgb.DMatrix(Xtrain.values,ytrain.values)\n",
    "        cvresult = xgb.cv(xgb_param, xgtrain, num_boost_round=alg.get_params()['n_estimators'], nfold=cv_folds,metrics='auc', early_stopping_rounds=early_stopping_rounds,verbose_eval=False)\n",
    "        alg.set_params(n_estimators=cvresult.shape[0])\n",
    "    \n",
    "    #Fit the algorithm on the data\n",
    "    alg.fit(Xtrain, ytrain,eval_metric='auc')\n",
    "       \n",
    "    #Predict training set:\n",
    "    dtrain_predictions = alg.predict(Xtrain)\n",
    "    dtrain_predprob = alg.predict_proba(Xtrain)[:,1]\n",
    "        \n",
    "    #Print model report:\n",
    "    print (\"\\nModel Report\")\n",
    "    print (\"Accuracy : %.4g\" % metrics.accuracy_score(ytrain.values, dtrain_predictions))\n",
    "    print (\"AUC Score (Train): %f\" % metrics.roc_auc_score(ytrain, dtrain_predprob))\n",
    "    \n",
    "    print (\"parameters: {}\".format(xgb_param))\n",
    "    print (\"best {}: {:.2f}\".format( alg.best_score))\n",
    "    print (\"best #trees: %d\" % (alg.best_ntree_limit))\n",
    "           "
   ]
  },
  {
   "cell_type": "code",
   "execution_count": 104,
   "metadata": {},
   "outputs": [
    {
     "name": "stderr",
     "output_type": "stream",
     "text": [
      "C:\\Users\\sarva\\Anaconda3\\lib\\site-packages\\xgboost\\core.py:587: FutureWarning: Series.base is deprecated and will be removed in a future version\n",
      "  if getattr(data, 'base', None) is not None and \\\n"
     ]
    }
   ],
   "source": [
    "train_matrix = xgb.DMatrix(Xtrain,ytrain)\n",
    "valid_matrix = xgb.DMatrix(Xvalid,yvalid)\n",
    "test_matrix = xgb.DMatrix(Xtest,ytest)"
   ]
  },
  {
   "cell_type": "code",
   "execution_count": 103,
   "metadata": {},
   "outputs": [],
   "source": [
    "def train(params):\n",
    "    params['silent'] = 1\n",
    "    params['objective'] = 'binary:logistic'  # output probabilities\n",
    "    params['eval_metric'] = 'auc'\n",
    "\n",
    "    num_rounds = params[\"num_rounds\"]\n",
    "    early_stopping_rounds = params[\"early_stop_rounds\"]\n",
    "\n",
    "    \n",
    "    watchlist = [(train_matrix, 'train'), (valid_matrix, 'validate')]\n",
    "    bst = xgb.train(params, train_matrix, num_rounds, watchlist, early_stopping_rounds=early_stopping_rounds)\n",
    "\n",
    "    print (\"parameters: {}\".format(params))\n",
    "    print (\"best {}: {:.2f}\".format(params[\"eval_metric\"], bst.best_score))\n",
    "    print (\"best #trees: %d\" % (bst.best_ntree_limit))\n",
    "\n",
    "    return bst"
   ]
  },
  {
   "cell_type": "markdown",
   "metadata": {},
   "source": [
    "Step 1: Fix learning rate and number of estimators for tuning tree-based parameters"
   ]
  },
  {
   "cell_type": "code",
   "execution_count": 105,
   "metadata": {
    "collapsed": true
   },
   "outputs": [
    {
     "name": "stdout",
     "output_type": "stream",
     "text": [
      "[0]\ttrain-auc:0.956716\tvalidate-auc:0.952578\n",
      "Multiple eval metrics have been passed: 'validate-auc' will be used for early stopping.\n",
      "\n",
      "Will train until validate-auc hasn't improved in 30 rounds.\n",
      "[1]\ttrain-auc:0.960629\tvalidate-auc:0.955947\n",
      "[2]\ttrain-auc:0.962753\tvalidate-auc:0.95949\n",
      "[3]\ttrain-auc:0.964936\tvalidate-auc:0.96117\n",
      "[4]\ttrain-auc:0.966118\tvalidate-auc:0.962193\n",
      "[5]\ttrain-auc:0.966954\tvalidate-auc:0.962726\n",
      "[6]\ttrain-auc:0.967861\tvalidate-auc:0.963743\n",
      "[7]\ttrain-auc:0.968238\tvalidate-auc:0.963769\n",
      "[8]\ttrain-auc:0.968768\tvalidate-auc:0.963992\n",
      "[9]\ttrain-auc:0.969291\tvalidate-auc:0.964621\n",
      "[10]\ttrain-auc:0.969683\tvalidate-auc:0.965137\n",
      "[11]\ttrain-auc:0.970114\tvalidate-auc:0.96527\n",
      "[12]\ttrain-auc:0.970477\tvalidate-auc:0.965668\n",
      "[13]\ttrain-auc:0.970787\tvalidate-auc:0.96581\n",
      "[14]\ttrain-auc:0.971257\tvalidate-auc:0.966404\n",
      "[15]\ttrain-auc:0.971453\tvalidate-auc:0.96645\n",
      "[16]\ttrain-auc:0.971545\tvalidate-auc:0.966607\n",
      "[17]\ttrain-auc:0.971789\tvalidate-auc:0.966918\n",
      "[18]\ttrain-auc:0.971905\tvalidate-auc:0.966965\n",
      "[19]\ttrain-auc:0.97218\tvalidate-auc:0.967237\n",
      "[20]\ttrain-auc:0.972368\tvalidate-auc:0.967397\n",
      "[21]\ttrain-auc:0.972569\tvalidate-auc:0.967532\n",
      "[22]\ttrain-auc:0.972705\tvalidate-auc:0.967618\n",
      "[23]\ttrain-auc:0.972898\tvalidate-auc:0.9676\n",
      "[24]\ttrain-auc:0.97307\tvalidate-auc:0.967786\n",
      "[25]\ttrain-auc:0.973304\tvalidate-auc:0.967946\n",
      "[26]\ttrain-auc:0.973466\tvalidate-auc:0.967974\n",
      "[27]\ttrain-auc:0.97364\tvalidate-auc:0.968091\n",
      "[28]\ttrain-auc:0.973928\tvalidate-auc:0.968408\n",
      "[29]\ttrain-auc:0.974107\tvalidate-auc:0.968581\n",
      "[30]\ttrain-auc:0.974219\tvalidate-auc:0.968613\n",
      "[31]\ttrain-auc:0.974356\tvalidate-auc:0.968715\n",
      "[32]\ttrain-auc:0.974524\tvalidate-auc:0.968837\n",
      "[33]\ttrain-auc:0.974723\tvalidate-auc:0.968953\n",
      "[34]\ttrain-auc:0.974788\tvalidate-auc:0.968908\n",
      "[35]\ttrain-auc:0.974961\tvalidate-auc:0.969052\n",
      "[36]\ttrain-auc:0.975101\tvalidate-auc:0.969111\n",
      "[37]\ttrain-auc:0.975242\tvalidate-auc:0.969167\n",
      "[38]\ttrain-auc:0.975321\tvalidate-auc:0.969182\n",
      "[39]\ttrain-auc:0.975417\tvalidate-auc:0.96929\n",
      "[40]\ttrain-auc:0.975438\tvalidate-auc:0.969256\n",
      "[41]\ttrain-auc:0.975647\tvalidate-auc:0.969332\n",
      "[42]\ttrain-auc:0.975685\tvalidate-auc:0.969314\n",
      "[43]\ttrain-auc:0.975777\tvalidate-auc:0.969404\n",
      "[44]\ttrain-auc:0.975871\tvalidate-auc:0.969407\n",
      "[45]\ttrain-auc:0.975977\tvalidate-auc:0.969437\n",
      "[46]\ttrain-auc:0.976038\tvalidate-auc:0.96951\n",
      "[47]\ttrain-auc:0.976104\tvalidate-auc:0.96955\n",
      "[48]\ttrain-auc:0.976142\tvalidate-auc:0.969566\n",
      "[49]\ttrain-auc:0.976195\tvalidate-auc:0.969547\n",
      "[50]\ttrain-auc:0.976294\tvalidate-auc:0.969615\n",
      "[51]\ttrain-auc:0.976366\tvalidate-auc:0.96966\n",
      "[52]\ttrain-auc:0.976421\tvalidate-auc:0.969769\n",
      "[53]\ttrain-auc:0.976519\tvalidate-auc:0.96978\n",
      "[54]\ttrain-auc:0.976605\tvalidate-auc:0.969763\n",
      "[55]\ttrain-auc:0.976713\tvalidate-auc:0.969804\n",
      "[56]\ttrain-auc:0.976798\tvalidate-auc:0.969797\n",
      "[57]\ttrain-auc:0.976836\tvalidate-auc:0.96983\n",
      "[58]\ttrain-auc:0.976892\tvalidate-auc:0.969829\n",
      "[59]\ttrain-auc:0.97696\tvalidate-auc:0.969855\n",
      "[60]\ttrain-auc:0.977096\tvalidate-auc:0.96983\n",
      "[61]\ttrain-auc:0.977174\tvalidate-auc:0.969853\n",
      "[62]\ttrain-auc:0.97726\tvalidate-auc:0.969899\n",
      "[63]\ttrain-auc:0.977336\tvalidate-auc:0.969853\n",
      "[64]\ttrain-auc:0.977386\tvalidate-auc:0.969919\n",
      "[65]\ttrain-auc:0.977413\tvalidate-auc:0.96994\n",
      "[66]\ttrain-auc:0.977448\tvalidate-auc:0.969949\n",
      "[67]\ttrain-auc:0.97755\tvalidate-auc:0.969968\n",
      "[68]\ttrain-auc:0.977589\tvalidate-auc:0.970011\n",
      "[69]\ttrain-auc:0.977731\tvalidate-auc:0.970017\n",
      "[70]\ttrain-auc:0.977797\tvalidate-auc:0.970018\n",
      "[71]\ttrain-auc:0.977953\tvalidate-auc:0.970008\n",
      "[72]\ttrain-auc:0.978048\tvalidate-auc:0.97002\n",
      "[73]\ttrain-auc:0.978209\tvalidate-auc:0.970018\n",
      "[74]\ttrain-auc:0.978259\tvalidate-auc:0.970022\n",
      "[75]\ttrain-auc:0.978357\tvalidate-auc:0.970021\n",
      "[76]\ttrain-auc:0.978516\tvalidate-auc:0.969988\n",
      "[77]\ttrain-auc:0.978544\tvalidate-auc:0.969963\n",
      "[78]\ttrain-auc:0.978574\tvalidate-auc:0.970001\n",
      "[79]\ttrain-auc:0.978737\tvalidate-auc:0.970046\n",
      "[80]\ttrain-auc:0.978843\tvalidate-auc:0.970065\n",
      "[81]\ttrain-auc:0.978938\tvalidate-auc:0.970079\n",
      "[82]\ttrain-auc:0.979027\tvalidate-auc:0.970125\n",
      "[83]\ttrain-auc:0.979124\tvalidate-auc:0.97009\n",
      "[84]\ttrain-auc:0.979195\tvalidate-auc:0.970046\n",
      "[85]\ttrain-auc:0.979239\tvalidate-auc:0.970058\n",
      "[86]\ttrain-auc:0.979388\tvalidate-auc:0.970053\n",
      "[87]\ttrain-auc:0.979527\tvalidate-auc:0.970016\n",
      "[88]\ttrain-auc:0.979617\tvalidate-auc:0.969994\n",
      "[89]\ttrain-auc:0.979712\tvalidate-auc:0.969978\n",
      "[90]\ttrain-auc:0.979756\tvalidate-auc:0.969952\n",
      "[91]\ttrain-auc:0.979847\tvalidate-auc:0.969892\n",
      "[92]\ttrain-auc:0.979962\tvalidate-auc:0.969867\n",
      "[93]\ttrain-auc:0.980108\tvalidate-auc:0.969884\n",
      "[94]\ttrain-auc:0.980183\tvalidate-auc:0.969916\n",
      "[95]\ttrain-auc:0.980214\tvalidate-auc:0.969901\n",
      "[96]\ttrain-auc:0.980265\tvalidate-auc:0.969916\n",
      "[97]\ttrain-auc:0.980329\tvalidate-auc:0.969949\n",
      "[98]\ttrain-auc:0.98047\tvalidate-auc:0.96997\n",
      "[99]\ttrain-auc:0.980555\tvalidate-auc:0.969986\n",
      "[100]\ttrain-auc:0.980669\tvalidate-auc:0.96995\n",
      "[101]\ttrain-auc:0.980769\tvalidate-auc:0.969913\n",
      "[102]\ttrain-auc:0.980891\tvalidate-auc:0.969877\n",
      "[103]\ttrain-auc:0.98101\tvalidate-auc:0.969849\n",
      "[104]\ttrain-auc:0.98108\tvalidate-auc:0.969853\n",
      "[105]\ttrain-auc:0.981185\tvalidate-auc:0.969846\n",
      "[106]\ttrain-auc:0.98128\tvalidate-auc:0.969813\n",
      "[107]\ttrain-auc:0.981382\tvalidate-auc:0.969804\n",
      "[108]\ttrain-auc:0.981455\tvalidate-auc:0.969754\n",
      "[109]\ttrain-auc:0.981532\tvalidate-auc:0.969724\n",
      "[110]\ttrain-auc:0.981629\tvalidate-auc:0.96973\n",
      "[111]\ttrain-auc:0.981731\tvalidate-auc:0.969694\n",
      "[112]\ttrain-auc:0.981877\tvalidate-auc:0.969708\n",
      "Stopping. Best iteration:\n",
      "[82]\ttrain-auc:0.979027\tvalidate-auc:0.970125\n",
      "\n",
      "parameters: {'num_rounds': 300, 'early_stop_rounds': 30, 'max_depth': 6, 'eta': 0.1, 'subsample': 0.8, 'colsample_bytree': 0.8, 'silent': 1, 'objective': 'binary:logistic', 'eval_metric': 'auc'}\n",
      "best auc: 0.97\n",
      "best #trees: 83\n"
     ]
    }
   ],
   "source": [
    "from xgboost.sklearn import XGBClassifier\n",
    "params = {}\n",
    "params[\"num_rounds\"] = 300\n",
    "params[\"early_stop_rounds\"] = 30\n",
    "# params['min_child_weight'] = 2\n",
    "params['max_depth'] = 6\n",
    "params['eta'] = 0.1 #learning rate\n",
    "params[\"subsample\"] = 0.8\n",
    "params[\"colsample_bytree\"] = 0.8\n",
    "\n",
    "# ------------- train with xgboost\n",
    "bst = train(params)"
   ]
  },
  {
   "cell_type": "markdown",
   "metadata": {},
   "source": [
    "From here we can see that the best number of trees is 83"
   ]
  },
  {
   "cell_type": "code",
   "execution_count": 106,
   "metadata": {},
   "outputs": [
    {
     "data": {
      "text/plain": [
       "83"
      ]
     },
     "execution_count": 106,
     "metadata": {},
     "output_type": "execute_result"
    }
   ],
   "source": [
    "n_trees = bst.best_ntree_limit\n",
    "n_trees"
   ]
  },
  {
   "cell_type": "markdown",
   "metadata": {},
   "source": [
    "### Retrain the Model with all the training data"
   ]
  },
  {
   "cell_type": "code",
   "execution_count": 108,
   "metadata": {
    "collapsed": true
   },
   "outputs": [
    {
     "name": "stdout",
     "output_type": "stream",
     "text": [
      "[0]\ttrain-auc:0.956741\n",
      "[1]\ttrain-auc:0.960049\n",
      "[2]\ttrain-auc:0.961798\n",
      "[3]\ttrain-auc:0.962516\n",
      "[4]\ttrain-auc:0.963282\n",
      "[5]\ttrain-auc:0.963973\n",
      "[6]\ttrain-auc:0.966108\n",
      "[7]\ttrain-auc:0.966575\n",
      "[8]\ttrain-auc:0.966907\n",
      "[9]\ttrain-auc:0.967253\n",
      "[10]\ttrain-auc:0.968214\n",
      "[11]\ttrain-auc:0.968558\n",
      "[12]\ttrain-auc:0.968742\n",
      "[13]\ttrain-auc:0.968912\n",
      "[14]\ttrain-auc:0.969647\n",
      "[15]\ttrain-auc:0.969887\n",
      "[16]\ttrain-auc:0.970098\n",
      "[17]\ttrain-auc:0.970484\n",
      "[18]\ttrain-auc:0.970666\n",
      "[19]\ttrain-auc:0.971054\n",
      "[20]\ttrain-auc:0.97139\n",
      "[21]\ttrain-auc:0.971596\n",
      "[22]\ttrain-auc:0.971785\n",
      "[23]\ttrain-auc:0.971944\n",
      "[24]\ttrain-auc:0.97226\n",
      "[25]\ttrain-auc:0.972518\n",
      "[26]\ttrain-auc:0.972655\n",
      "[27]\ttrain-auc:0.972906\n",
      "[28]\ttrain-auc:0.973073\n",
      "[29]\ttrain-auc:0.973243\n",
      "[30]\ttrain-auc:0.97347\n",
      "[31]\ttrain-auc:0.973557\n",
      "[32]\ttrain-auc:0.973639\n",
      "[33]\ttrain-auc:0.973743\n",
      "[34]\ttrain-auc:0.973917\n",
      "[35]\ttrain-auc:0.974084\n",
      "[36]\ttrain-auc:0.974206\n",
      "[37]\ttrain-auc:0.974322\n",
      "[38]\ttrain-auc:0.974364\n",
      "[39]\ttrain-auc:0.974465\n",
      "[40]\ttrain-auc:0.974596\n",
      "[41]\ttrain-auc:0.974752\n",
      "[42]\ttrain-auc:0.974823\n",
      "[43]\ttrain-auc:0.974897\n",
      "[44]\ttrain-auc:0.974998\n",
      "[45]\ttrain-auc:0.975134\n",
      "[46]\ttrain-auc:0.975182\n",
      "[47]\ttrain-auc:0.975256\n",
      "[48]\ttrain-auc:0.975307\n",
      "[49]\ttrain-auc:0.975406\n",
      "[50]\ttrain-auc:0.97549\n",
      "[51]\ttrain-auc:0.975554\n",
      "[52]\ttrain-auc:0.975608\n",
      "[53]\ttrain-auc:0.975755\n",
      "[54]\ttrain-auc:0.975843\n",
      "[55]\ttrain-auc:0.975982\n",
      "[56]\ttrain-auc:0.97604\n",
      "[57]\ttrain-auc:0.97613\n",
      "[58]\ttrain-auc:0.97621\n",
      "[59]\ttrain-auc:0.97627\n",
      "[60]\ttrain-auc:0.976327\n",
      "[61]\ttrain-auc:0.976369\n",
      "[62]\ttrain-auc:0.976504\n",
      "[63]\ttrain-auc:0.97657\n",
      "[64]\ttrain-auc:0.976679\n",
      "[65]\ttrain-auc:0.976778\n",
      "[66]\ttrain-auc:0.976868\n",
      "[67]\ttrain-auc:0.976931\n",
      "[68]\ttrain-auc:0.976977\n",
      "[69]\ttrain-auc:0.977046\n",
      "[70]\ttrain-auc:0.97714\n",
      "[71]\ttrain-auc:0.977192\n",
      "[72]\ttrain-auc:0.977294\n",
      "[73]\ttrain-auc:0.977374\n",
      "[74]\ttrain-auc:0.977449\n",
      "[75]\ttrain-auc:0.97749\n",
      "[76]\ttrain-auc:0.977551\n",
      "[77]\ttrain-auc:0.977618\n",
      "[78]\ttrain-auc:0.977649\n",
      "[79]\ttrain-auc:0.977771\n",
      "[80]\ttrain-auc:0.977819\n",
      "[81]\ttrain-auc:0.977878\n",
      "[82]\ttrain-auc:0.977941\n"
     ]
    }
   ],
   "source": [
    "watchlist = [(alltrain_matrix, 'train')]\n",
    "all_bst = xgb.train(params, alltrain_matrix, n_trees,watchlist)"
   ]
  },
  {
   "cell_type": "markdown",
   "metadata": {},
   "source": [
    "### Choosing best threshold value (probability cutoff)"
   ]
  },
  {
   "cell_type": "code",
   "execution_count": 114,
   "metadata": {},
   "outputs": [
    {
     "name": "stdout",
     "output_type": "stream",
     "text": [
      "[0. 1. 0. ... 1. 1. 1.]\n"
     ]
    }
   ],
   "source": [
    "from sklearn.metrics import roc_curve\n",
    "yvalid_true = valid_matrix.get_label()\n",
    "\n",
    "yvalid_pred_probas = bst.predict(valid_matrix, ntree_limit=bst.best_ntree_limit)\n",
    "\n",
    "fpr,tpr,thresholds = roc_curve(yvalid_true,yvalid_pred_probas)\n",
    "roc = pd.DataFrame({'FPR':fpr,'TPR':tpr,'Thresholds':thresholds})"
   ]
  },
  {
   "cell_type": "markdown",
   "metadata": {},
   "source": [
    "Looping through thresholds to maximize profit"
   ]
  },
  {
   "cell_type": "code",
   "execution_count": 149,
   "metadata": {},
   "outputs": [],
   "source": [
    "  \n",
    "def cal_profit(repaid_loan,probs,threshold):\n",
    "    total_profit = 0\n",
    "    for (repaid,prob) in zip(repaid_loan,probs):\n",
    "        if prob > threshold:\n",
    "            if repaid==1:\n",
    "                total_profit+=1\n",
    "            else: #repaid=0\n",
    "                total_profit+=-1\n",
    "            \n",
    "    return total_profit"
   ]
  },
  {
   "cell_type": "code",
   "execution_count": 146,
   "metadata": {},
   "outputs": [],
   "source": [
    "profits=[cal_profit(yvalid.values,yvalid_pred_probas,threshold) for threshold in roc.Thresholds]"
   ]
  },
  {
   "cell_type": "code",
   "execution_count": 147,
   "metadata": {},
   "outputs": [
    {
     "data": {
      "image/png": "[encoded data removed]",
      "text/plain": [
       "<Figure size 360x360 with 1 Axes>"
      ]
     },
     "metadata": {
      "needs_background": "light"
     },
     "output_type": "display_data"
    }
   ],
   "source": [
    "import matplotlib.pyplot as plt\n",
    "import numpy as np\n",
    "plt.plot(roc.Thresholds,profits)\n",
    "plt.yticks(range(-10000,4000,1000))\n",
    "_ = plt.xticks(np.linspace(0,1,11))\n",
    "plt.rc('figure',figsize=(5,5))"
   ]
  },
  {
   "cell_type": "code",
   "execution_count": 148,
   "metadata": {},
   "outputs": [
    {
     "name": "stderr",
     "output_type": "stream",
     "text": [
      "C:\\Users\\sarva\\Anaconda3\\lib\\site-packages\\ipykernel_launcher.py:2: FutureWarning: \n",
      "The current behaviour of 'Series.argmax' is deprecated, use 'idxmax'\n",
      "instead.\n",
      "The behavior of 'argmax' will be corrected to return the positional\n",
      "maximum in the future. For now, use 'series.values.argmax' or\n",
      "'np.argmax(np.array(values))' to get the position of the maximum\n",
      "row.\n",
      "  \n"
     ]
    },
    {
     "data": {
      "text/plain": [
       "threshold       0.459443\n",
       "profit       3681.000000\n",
       "Name: 792, dtype: float64"
      ]
     },
     "execution_count": 148,
     "metadata": {},
     "output_type": "execute_result"
    }
   ],
   "source": [
    "valid_threshold_profits = pd.DataFrame({'threshold':roc.Thresholds,'profit':profits})\n",
    "temp = valid_threshold_profits.loc[  valid_threshold_profits.profit.argmax()   ,:]\n",
    "temp"
   ]
  },
  {
   "cell_type": "markdown",
   "metadata": {},
   "source": [
    "We can see that the threshold should be 0.45."
   ]
  },
  {
   "cell_type": "markdown",
   "metadata": {},
   "source": [
    "### Test"
   ]
  },
  {
   "cell_type": "code",
   "execution_count": 107,
   "metadata": {},
   "outputs": [],
   "source": [
    "# combine training set and validation set together\n",
    "Xalltrain = pd.concat([Xtrain,Xvalid],axis=0)\n",
    "yalltrain = pd.concat([ytrain,yvalid],axis=0)\n",
    "alltrain_matrix = xgb.DMatrix(Xalltrain,yalltrain)"
   ]
  },
  {
   "cell_type": "code",
   "execution_count": 144,
   "metadata": {},
   "outputs": [
    {
     "name": "stdout",
     "output_type": "stream",
     "text": [
      "test accuracy:  0.9047352591452752\n"
     ]
    }
   ],
   "source": [
    "from sklearn.metrics import classification_report,accuracy_score\n",
    "ytest_pred_probas = all_bst.predict(test_matrix, ntree_limit=n_trees)\n",
    "ytest_pred = (ytest_pred_probas>0.4).astype(int)\n",
    "\n",
    "print (\"test accuracy: \",accuracy_score(ytest,ytest_pred))"
   ]
  },
  {
   "cell_type": "code",
   "execution_count": 137,
   "metadata": {},
   "outputs": [
    {
     "name": "stdout",
     "output_type": "stream",
     "text": [
      "              precision    recall  f1-score   support\n",
      "\n",
      "         0.0       0.86      0.88      0.87      5011\n",
      "         1.0       0.94      0.92      0.93      9286\n",
      "\n",
      "    accuracy                           0.91     14297\n",
      "   macro avg       0.90      0.90      0.90     14297\n",
      "weighted avg       0.91      0.91      0.91     14297\n",
      "\n"
     ]
    }
   ],
   "source": [
    "print (classification_report(ytest,ytest_pred))"
   ]
  },
  {
   "cell_type": "markdown",
   "metadata": {},
   "source": [
    "### Comparing profits between old and new models"
   ]
  },
  {
   "cell_type": "code",
   "execution_count": 151,
   "metadata": {},
   "outputs": [],
   "source": [
    "def cal_profit_old(loan_repaid):\n",
    "    total_profit=0\n",
    "    for repaid in loan_repaid:\n",
    "        if repaid==1:\n",
    "            total_profit+=1\n",
    "        else:\n",
    "            total_profit+=-1\n",
    "    return total_profit"
   ]
  },
  {
   "cell_type": "code",
   "execution_count": 152,
   "metadata": {},
   "outputs": [
    {
     "data": {
      "text/plain": [
       "4275"
      ]
     },
     "execution_count": 152,
     "metadata": {},
     "output_type": "execute_result"
    }
   ],
   "source": [
    "#Profit due to old model\n",
    "cal_profit_old(ytest.values)"
   ]
  },
  {
   "cell_type": "code",
   "execution_count": 153,
   "metadata": {},
   "outputs": [
    {
     "data": {
      "text/plain": [
       "7975"
      ]
     },
     "execution_count": 153,
     "metadata": {},
     "output_type": "execute_result"
    }
   ],
   "source": [
    "#profit due to new model\n",
    "cal_profit(ytest.values,ytest_pred_probas,0.45)"
   ]
  },
  {
   "cell_type": "markdown",
   "metadata": {},
   "source": [
    "We can see a significant increase in profits if we use the new model where in a user is granted a loan if the model's predicted probablity is higher than the threshold value of 0.45."
   ]
  },
  {
   "cell_type": "markdown",
   "metadata": {},
   "source": [
    "### Important features"
   ]
  },
  {
   "cell_type": "code",
   "execution_count": 154,
   "metadata": {},
   "outputs": [
    {
     "data": {
      "text/plain": [
       "<matplotlib.axes._subplots.AxesSubplot at 0x242c8845b00>"
      ]
     },
     "execution_count": 154,
     "metadata": {},
     "output_type": "execute_result"
    },
    {
     "data": {
      "image/png": "[encoded data removed]",
      "text/plain": [
       "<Figure size 360x360 with 1 Axes>"
      ]
     },
     "metadata": {
      "needs_background": "light"
     },
     "output_type": "display_data"
    }
   ],
   "source": [
    "xgb.plot_importance(all_bst,title='Feature Importance')"
   ]
  },
  {
   "cell_type": "code",
   "execution_count": null,
   "metadata": {},
   "outputs": [],
   "source": []
  }
 ],
 "metadata": {
  "kernelspec": {
   "display_name": "Python 3",
   "language": "python",
   "name": "python3"
  },
  "language_info": {
   "codemirror_mode": {
    "name": "ipython",
    "version": 3
   },
   "file_extension": ".py",
   "mimetype": "text/x-python",
   "name": "python",
   "nbconvert_exporter": "python",
   "pygments_lexer": "ipython3",
   "version": "3.7.3"
  }
 },
 "nbformat": 4,
 "nbformat_minor": 2
}
